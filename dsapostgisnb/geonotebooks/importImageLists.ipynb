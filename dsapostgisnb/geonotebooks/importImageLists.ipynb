{
 "cells": [
  {
   "cell_type": "code",
   "execution_count": 1,
   "id": "6c2e19d7",
   "metadata": {},
   "outputs": [],
   "source": [
    "import girder_client\n",
    "import requests\n",
    "dsaApiUrl = \"https://wsi-deid.pathology.emory.edu/api/v1\"\n",
    "gc = girder_client.GirderClient(apiUrl=dsaApiUrl)\n",
    "dbApiUrl = \"http://dsapostgisapi:82/\""
   ]
  },
  {
   "cell_type": "code",
   "execution_count": 4,
   "id": "ea8d5dd3",
   "metadata": {},
   "outputs": [
    {
     "name": "stdout",
     "output_type": "stream",
     "text": [
      "OS03-163_1A_TAU.svs\n",
      "TCGA-06-5408-01A-01-TS1.68665795-aac7-4a6d-9a14-c306bc941b26.svs\n",
      "TCGA-06-5412-01A-01-TS1.4e47da5e-588a-4cc1-8c10-a701764b1f7c.svs\n",
      "TCGA-06-5414-01A-01-TS1.660d19f8-1237-47f0-8d5d-71037df4ed67.svs\n",
      "TCGA-06-5416-01A-01-TS1.1749a247-c33d-4a06-88f2-4deef3c5d982.svs\n",
      "TCGA-06-5417-01A-01-TS1.a84b8f46-a57d-469d-a65e-4aa5f45da5f3.svs\n",
      "TCGA-06-5418-01A-01-TS1.6600b787-bac7-4ad1-8711-f27bae721e7a.svs\n",
      "TCGA-08-0509-01A-01-TS1.27f6ae4c-e445-4e2e-a94b-31d449ba69c9.svs\n",
      "TCGA-12-0620-01Z-00-DX1.5d4cc50f-9b78-4b8b-8e8e-1c20ae415d71.svs\n",
      "TCGA-12-0654-01C-01-BS1.52cba7d5-7130-48c1-a31e-349f8b12822b.svs\n",
      "TCGA-12-0820-01Z-00-DX1.43DEB9E2-D419-4263-8188-20FEBB070AAF.svs\n",
      "TCGA-19-1387-01A-01-TS1.ff52185b-1cd8-49d4-bb3d-739b5b75b6fb.svs\n",
      "TCGA-19-1787-01C-01-TS1.b9f6f0f2-14f2-4bc5-b7f8-9520ec38eb98.svs\n",
      "TCGA-19-2623-01B-01-TS1.f7894961-4e2c-4bfd-90df-442d1933fef9.svs\n",
      "TCGA-28-5211-01D-01-TS1.c05a78f8-ca45-4493-b96f-ab70fadd3a2c.svs\n"
     ]
    }
   ],
   "source": [
    "for i in gc.listItem('6452a8b1239ec54642356cad'):\n",
    "    print(i['name'])\n",
    "    r = requests.post(dbApiUrl+\"add-DSAImage?imageId=%s&dsaApiUrl=%s\" % (i['_id'], dsaApiUrl))\n"
   ]
  },
  {
   "cell_type": "code",
   "execution_count": null,
   "id": "4346c9c5",
   "metadata": {},
   "outputs": [],
   "source": []
  }
 ],
 "metadata": {
  "kernelspec": {
   "display_name": "Python 3 (ipykernel)",
   "language": "python",
   "name": "python3"
  },
  "language_info": {
   "codemirror_mode": {
    "name": "ipython",
    "version": 3
   },
   "file_extension": ".py",
   "mimetype": "text/x-python",
   "name": "python",
   "nbconvert_exporter": "python",
   "pygments_lexer": "ipython3",
   "version": "3.9.16"
  }
 },
 "nbformat": 4,
 "nbformat_minor": 5
}
