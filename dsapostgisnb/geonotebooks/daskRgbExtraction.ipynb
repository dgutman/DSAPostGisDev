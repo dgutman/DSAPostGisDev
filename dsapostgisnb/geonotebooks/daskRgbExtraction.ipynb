{
 "cells": [
  {
   "cell_type": "code",
   "execution_count": 1,
   "id": "bcf0088d",
   "metadata": {},
   "outputs": [
    {
     "data": {
      "text/html": [
       "<div>\n",
       "    <div style=\"width: 24px; height: 24px; background-color: #e1e1e1; border: 3px solid #9D9D9D; border-radius: 5px; position: absolute;\"> </div>\n",
       "    <div style=\"margin-left: 48px;\">\n",
       "        <h3 style=\"margin-bottom: 0px;\">Client</h3>\n",
       "        <p style=\"color: #9D9D9D; margin-bottom: 0px;\">Client-42d232c2-f025-11ed-805c-0242ac1c0007</p>\n",
       "        <table style=\"width: 100%; text-align: left;\">\n",
       "\n",
       "        <tr>\n",
       "        \n",
       "            <td style=\"text-align: left;\"><strong>Connection method:</strong> Cluster object</td>\n",
       "            <td style=\"text-align: left;\"><strong>Cluster type:</strong> distributed.LocalCluster</td>\n",
       "        \n",
       "        </tr>\n",
       "\n",
       "        \n",
       "            <tr>\n",
       "                <td style=\"text-align: left;\">\n",
       "                    <strong>Dashboard: </strong> <a href=\"http://127.0.0.1:8787/status\" target=\"_blank\">http://127.0.0.1:8787/status</a>\n",
       "                </td>\n",
       "                <td style=\"text-align: left;\"></td>\n",
       "            </tr>\n",
       "        \n",
       "\n",
       "        </table>\n",
       "\n",
       "        \n",
       "\n",
       "        \n",
       "            <details>\n",
       "            <summary style=\"margin-bottom: 20px;\"><h3 style=\"display: inline;\">Cluster Info</h3></summary>\n",
       "            <div class=\"jp-RenderedHTMLCommon jp-RenderedHTML jp-mod-trusted jp-OutputArea-output\">\n",
       "    <div style=\"width: 24px; height: 24px; background-color: #e1e1e1; border: 3px solid #9D9D9D; border-radius: 5px; position: absolute;\">\n",
       "    </div>\n",
       "    <div style=\"margin-left: 48px;\">\n",
       "        <h3 style=\"margin-bottom: 0px; margin-top: 0px;\">LocalCluster</h3>\n",
       "        <p style=\"color: #9D9D9D; margin-bottom: 0px;\">5495f58a</p>\n",
       "        <table style=\"width: 100%; text-align: left;\">\n",
       "            <tr>\n",
       "                <td style=\"text-align: left;\">\n",
       "                    <strong>Dashboard:</strong> <a href=\"http://127.0.0.1:8787/status\" target=\"_blank\">http://127.0.0.1:8787/status</a>\n",
       "                </td>\n",
       "                <td style=\"text-align: left;\">\n",
       "                    <strong>Workers:</strong> 2\n",
       "                </td>\n",
       "            </tr>\n",
       "            <tr>\n",
       "                <td style=\"text-align: left;\">\n",
       "                    <strong>Total threads:</strong> 12\n",
       "                </td>\n",
       "                <td style=\"text-align: left;\">\n",
       "                    <strong>Total memory:</strong> 30.99 GiB\n",
       "                </td>\n",
       "            </tr>\n",
       "            \n",
       "            <tr>\n",
       "    <td style=\"text-align: left;\"><strong>Status:</strong> running</td>\n",
       "    <td style=\"text-align: left;\"><strong>Using processes:</strong> True</td>\n",
       "</tr>\n",
       "\n",
       "            \n",
       "        </table>\n",
       "\n",
       "        <details>\n",
       "            <summary style=\"margin-bottom: 20px;\">\n",
       "                <h3 style=\"display: inline;\">Scheduler Info</h3>\n",
       "            </summary>\n",
       "\n",
       "            <div style=\"\">\n",
       "    <div>\n",
       "        <div style=\"width: 24px; height: 24px; background-color: #FFF7E5; border: 3px solid #FF6132; border-radius: 5px; position: absolute;\"> </div>\n",
       "        <div style=\"margin-left: 48px;\">\n",
       "            <h3 style=\"margin-bottom: 0px;\">Scheduler</h3>\n",
       "            <p style=\"color: #9D9D9D; margin-bottom: 0px;\">Scheduler-83f03bab-5bc6-4926-9c52-7d6f3f2e4709</p>\n",
       "            <table style=\"width: 100%; text-align: left;\">\n",
       "                <tr>\n",
       "                    <td style=\"text-align: left;\">\n",
       "                        <strong>Comm:</strong> tcp://127.0.0.1:36413\n",
       "                    </td>\n",
       "                    <td style=\"text-align: left;\">\n",
       "                        <strong>Workers:</strong> 2\n",
       "                    </td>\n",
       "                </tr>\n",
       "                <tr>\n",
       "                    <td style=\"text-align: left;\">\n",
       "                        <strong>Dashboard:</strong> <a href=\"http://127.0.0.1:8787/status\" target=\"_blank\">http://127.0.0.1:8787/status</a>\n",
       "                    </td>\n",
       "                    <td style=\"text-align: left;\">\n",
       "                        <strong>Total threads:</strong> 12\n",
       "                    </td>\n",
       "                </tr>\n",
       "                <tr>\n",
       "                    <td style=\"text-align: left;\">\n",
       "                        <strong>Started:</strong> Just now\n",
       "                    </td>\n",
       "                    <td style=\"text-align: left;\">\n",
       "                        <strong>Total memory:</strong> 30.99 GiB\n",
       "                    </td>\n",
       "                </tr>\n",
       "            </table>\n",
       "        </div>\n",
       "    </div>\n",
       "\n",
       "    <details style=\"margin-left: 48px;\">\n",
       "        <summary style=\"margin-bottom: 20px;\">\n",
       "            <h3 style=\"display: inline;\">Workers</h3>\n",
       "        </summary>\n",
       "\n",
       "        \n",
       "        <div style=\"margin-bottom: 20px;\">\n",
       "            <div style=\"width: 24px; height: 24px; background-color: #DBF5FF; border: 3px solid #4CC9FF; border-radius: 5px; position: absolute;\"> </div>\n",
       "            <div style=\"margin-left: 48px;\">\n",
       "            <details>\n",
       "                <summary>\n",
       "                    <h4 style=\"margin-bottom: 0px; display: inline;\">Worker: 0</h4>\n",
       "                </summary>\n",
       "                <table style=\"width: 100%; text-align: left;\">\n",
       "                    <tr>\n",
       "                        <td style=\"text-align: left;\">\n",
       "                            <strong>Comm: </strong> tcp://127.0.0.1:46747\n",
       "                        </td>\n",
       "                        <td style=\"text-align: left;\">\n",
       "                            <strong>Total threads: </strong> 6\n",
       "                        </td>\n",
       "                    </tr>\n",
       "                    <tr>\n",
       "                        <td style=\"text-align: left;\">\n",
       "                            <strong>Dashboard: </strong> <a href=\"http://127.0.0.1:36249/status\" target=\"_blank\">http://127.0.0.1:36249/status</a>\n",
       "                        </td>\n",
       "                        <td style=\"text-align: left;\">\n",
       "                            <strong>Memory: </strong> 15.49 GiB\n",
       "                        </td>\n",
       "                    </tr>\n",
       "                    <tr>\n",
       "                        <td style=\"text-align: left;\">\n",
       "                            <strong>Nanny: </strong> tcp://127.0.0.1:43945\n",
       "                        </td>\n",
       "                        <td style=\"text-align: left;\"></td>\n",
       "                    </tr>\n",
       "                    <tr>\n",
       "                        <td colspan=\"2\" style=\"text-align: left;\">\n",
       "                            <strong>Local directory: </strong> /tmp/dask-worker-space/worker-u4d_uwvc\n",
       "                        </td>\n",
       "                    </tr>\n",
       "\n",
       "                    \n",
       "\n",
       "                    \n",
       "\n",
       "                </table>\n",
       "            </details>\n",
       "            </div>\n",
       "        </div>\n",
       "        \n",
       "        <div style=\"margin-bottom: 20px;\">\n",
       "            <div style=\"width: 24px; height: 24px; background-color: #DBF5FF; border: 3px solid #4CC9FF; border-radius: 5px; position: absolute;\"> </div>\n",
       "            <div style=\"margin-left: 48px;\">\n",
       "            <details>\n",
       "                <summary>\n",
       "                    <h4 style=\"margin-bottom: 0px; display: inline;\">Worker: 1</h4>\n",
       "                </summary>\n",
       "                <table style=\"width: 100%; text-align: left;\">\n",
       "                    <tr>\n",
       "                        <td style=\"text-align: left;\">\n",
       "                            <strong>Comm: </strong> tcp://127.0.0.1:44147\n",
       "                        </td>\n",
       "                        <td style=\"text-align: left;\">\n",
       "                            <strong>Total threads: </strong> 6\n",
       "                        </td>\n",
       "                    </tr>\n",
       "                    <tr>\n",
       "                        <td style=\"text-align: left;\">\n",
       "                            <strong>Dashboard: </strong> <a href=\"http://127.0.0.1:38155/status\" target=\"_blank\">http://127.0.0.1:38155/status</a>\n",
       "                        </td>\n",
       "                        <td style=\"text-align: left;\">\n",
       "                            <strong>Memory: </strong> 15.49 GiB\n",
       "                        </td>\n",
       "                    </tr>\n",
       "                    <tr>\n",
       "                        <td style=\"text-align: left;\">\n",
       "                            <strong>Nanny: </strong> tcp://127.0.0.1:39101\n",
       "                        </td>\n",
       "                        <td style=\"text-align: left;\"></td>\n",
       "                    </tr>\n",
       "                    <tr>\n",
       "                        <td colspan=\"2\" style=\"text-align: left;\">\n",
       "                            <strong>Local directory: </strong> /tmp/dask-worker-space/worker-87o62wr5\n",
       "                        </td>\n",
       "                    </tr>\n",
       "\n",
       "                    \n",
       "\n",
       "                    \n",
       "\n",
       "                </table>\n",
       "            </details>\n",
       "            </div>\n",
       "        </div>\n",
       "        \n",
       "\n",
       "    </details>\n",
       "</div>\n",
       "\n",
       "        </details>\n",
       "    </div>\n",
       "</div>\n",
       "            </details>\n",
       "        \n",
       "\n",
       "    </div>\n",
       "</div>"
      ],
      "text/plain": [
       "<Client: 'tcp://127.0.0.1:36413' processes=2 threads=12, memory=30.99 GiB>"
      ]
     },
     "execution_count": 1,
     "metadata": {},
     "output_type": "execute_result"
    }
   ],
   "source": [
    "# Set up a basic configuration.  Change as needed.\n",
    "import dask.distributed\n",
    "import plotly.express as px\n",
    "from dask import delayed\n",
    "import large_image\n",
    "import numpy as np\n",
    "\n",
    "runTimeInfo = []\n",
    "dask.distributed.Client(n_workers=2)\n"
   ]
  },
  {
   "cell_type": "code",
   "execution_count": null,
   "id": "f7d27b48",
   "metadata": {},
   "outputs": [],
   "source": [
    "# !pip install fast_histogram"
   ]
  },
  {
   "cell_type": "code",
   "execution_count": 2,
   "id": "be363338",
   "metadata": {},
   "outputs": [],
   "source": [
    "import time\n",
    "@dask.delayed\n",
    "def computeTileHist( slide_path, position, count, kwargs ):\n",
    "    ### Count is the number of tiles to process in a single task\n",
    "    \n",
    "    ts = large_image.getTileSource(slide_path)\n",
    "    \n",
    "    results = []\n",
    "    for pos in range(position, position+count):\n",
    "        st = time.time()\n",
    "        \n",
    "        tile_info = ts.getSingleTile(tile_position=pos,**kwargs)\n",
    "        image_array = tile_info['tile']\n",
    "        avgColor  = np.mean(image_array, axis=(0,  1))\n",
    "\n",
    "        \n",
    "        histData = {'topX':tile_info['gx'],'topY':tile_info['gy'],'width':tile_info['gwidth'],\n",
    "                    'height':tile_info['gheight'], 'bytes_read': image_array.size,\n",
    "                   \"apiURL\": dsaApiUrl,   \"imageId\": imageInfo['imageId'],    \"imageName\": imageInfo['imageName'],\n",
    "                   \"average\": list(avgColor), \"featureType\": \"imgHistogram\", \"startTime\": st ,\n",
    "                    \"genAvgColor\": time.time() -st}\n",
    "\n",
    "        st = time.time()\n",
    "        for idx,c in enumerate(['red','green','blue']):\n",
    "            h = np.histogram(image_array[:,:,idx],bins=255,range=[0,255])\n",
    "            histData[c] =h[0].tolist()\n",
    "            \n",
    "        histData['computeHist'] = time.time() - st\n",
    "        \n",
    "        results.append(histData) \n",
    "\n",
    "    return results"
   ]
  },
  {
   "cell_type": "code",
   "execution_count": 15,
   "id": "aeeddfb1",
   "metadata": {},
   "outputs": [
    {
     "name": "stdout",
     "output_type": "stream",
     "text": [
      "0.4310011863708496 for tilesize of 1000\n",
      "0.6991410255432129 for tilesize of 2000\n",
      "1.7476589679718018 for tilesize of 4000\n",
      "5.135886192321777 for tilesize of 8000\n",
      "3.847784996032715 for tilesize of 12000\n",
      "4.397916555404663 for tilesize of 16000\n",
      "4.066150903701782 for tilesize of 32000\n",
      "0.2333827018737793 for tilesize of 1000\n",
      "0.3925912380218506 for tilesize of 2000\n",
      "1.5224485397338867 for tilesize of 4000\n",
      "4.453020811080933 for tilesize of 8000\n",
      "4.461623668670654 for tilesize of 12000\n",
      "4.337134838104248 for tilesize of 16000\n",
      "4.217117786407471 for tilesize of 32000\n",
      "0.4633502960205078 for tilesize of 1000\n",
      "0.6242806911468506 for tilesize of 2000\n",
      "1.7247600555419922 for tilesize of 4000\n",
      "6.655493259429932 for tilesize of 8000\n",
      "7.780604839324951 for tilesize of 12000\n",
      "7.248055458068848 for tilesize of 16000\n",
      "7.621370077133179 for tilesize of 32000\n",
      "0.542773962020874 for tilesize of 1000\n",
      "0.8384852409362793 for tilesize of 2000\n",
      "1.4832570552825928 for tilesize of 4000\n",
      "3.0840797424316406 for tilesize of 8000\n",
      "4.385380744934082 for tilesize of 12000\n",
      "4.0796427726745605 for tilesize of 16000\n",
      "3.944431781768799 for tilesize of 32000\n",
      "0.4461405277252197 for tilesize of 1000\n",
      "0.6744017601013184 for tilesize of 2000\n",
      "1.7227208614349365 for tilesize of 4000\n",
      "4.655580997467041 for tilesize of 8000\n",
      "4.82366156578064 for tilesize of 12000\n",
      "5.902284860610962 for tilesize of 16000\n",
      "5.183269500732422 for tilesize of 32000\n",
      "0.4416942596435547 for tilesize of 1000\n",
      "0.7717685699462891 for tilesize of 2000\n",
      "1.6453371047973633 for tilesize of 4000\n",
      "3.4625205993652344 for tilesize of 8000\n",
      "3.9190988540649414 for tilesize of 12000\n",
      "4.149243116378784 for tilesize of 16000\n",
      "4.761081695556641 for tilesize of 32000\n",
      "0.5279314517974854 for tilesize of 1000\n",
      "0.7807154655456543 for tilesize of 2000\n",
      "1.7399590015411377 for tilesize of 4000\n",
      "5.964406490325928 for tilesize of 8000\n",
      "14.8784339427948 for tilesize of 12000\n",
      "29.15782880783081 for tilesize of 16000\n",
      "30.36974000930786 for tilesize of 32000\n",
      "0.44936084747314453 for tilesize of 1000\n",
      "0.6991093158721924 for tilesize of 2000\n",
      "1.807243824005127 for tilesize of 4000\n",
      "7.112869739532471 for tilesize of 8000\n",
      "9.977080821990967 for tilesize of 12000\n",
      "8.789023160934448 for tilesize of 16000\n",
      "8.596308469772339 for tilesize of 32000\n",
      "0.4453558921813965 for tilesize of 1000\n",
      "0.673447847366333 for tilesize of 2000\n",
      "1.8603706359863281 for tilesize of 4000\n",
      "6.622361421585083 for tilesize of 8000\n",
      "14.295387983322144 for tilesize of 12000\n",
      "25.60573649406433 for tilesize of 16000\n",
      "41.81914305686951 for tilesize of 32000\n",
      "0.28792762756347656 for tilesize of 1000\n",
      "0.47703027725219727 for tilesize of 2000\n",
      "1.6810591220855713 for tilesize of 4000\n",
      "7.134749174118042 for tilesize of 8000\n",
      "15.189777851104736 for tilesize of 12000\n",
      "24.34316349029541 for tilesize of 16000\n",
      "48.33796238899231 for tilesize of 32000\n",
      "0.4640929698944092 for tilesize of 1000\n",
      "0.6890408992767334 for tilesize of 2000\n",
      "1.1156096458435059 for tilesize of 4000\n",
      "2.292515277862549 for tilesize of 8000\n",
      "3.2978317737579346 for tilesize of 12000\n",
      "3.1330909729003906 for tilesize of 16000\n",
      "3.9387600421905518 for tilesize of 32000\n",
      "0.47458720207214355 for tilesize of 1000\n",
      "0.6831235885620117 for tilesize of 2000\n",
      "1.7496726512908936 for tilesize of 4000\n",
      "4.6422953605651855 for tilesize of 8000\n",
      "6.186485767364502 for tilesize of 12000\n",
      "6.1614274978637695 for tilesize of 16000\n",
      "6.584875822067261 for tilesize of 32000\n",
      "0.42119407653808594 for tilesize of 1000\n",
      "0.7095623016357422 for tilesize of 2000\n",
      "1.7263340950012207 for tilesize of 4000\n",
      "3.466496229171753 for tilesize of 8000\n",
      "3.7987747192382812 for tilesize of 12000\n",
      "4.2041473388671875 for tilesize of 16000\n",
      "3.5042407512664795 for tilesize of 32000\n",
      "0.40302062034606934 for tilesize of 1000\n",
      "0.755415678024292 for tilesize of 2000\n",
      "1.5379612445831299 for tilesize of 4000\n",
      "3.5054283142089844 for tilesize of 8000\n",
      "3.9721837043762207 for tilesize of 12000\n",
      "3.928027391433716 for tilesize of 16000\n",
      "3.8501691818237305 for tilesize of 32000\n",
      "CPU times: user 6min 3s, sys: 20.2 s, total: 6min 23s\n",
      "Wall time: 13min 31s\n"
     ]
    }
   ],
   "source": [
    "%%time\n",
    "\n",
    "imageInfo = {}\n",
    "imageInfo['imageId'] = 2\n",
    "imageInfo['imageName'] = 'TBD'\n",
    "tile_grouping = 32\n",
    "\n",
    "slide_path = './TCGA-3L-AA1B-01A-01-TS1.9C415218-D5B4-4945-B243-F42A4C8C0484.svs'\n",
    "\n",
    "\n",
    "import glob\n",
    "for slide_path in glob.glob(\"SmallSampleFiles/*.svs\"):\n",
    "\n",
    "    for tileSize in [1000,2000,4000,8000,12000,16000,32000]:\n",
    "\n",
    "\n",
    "        region = dict(\n",
    "            width=tileSize, height=tileSize,\n",
    "        )\n",
    "\n",
    "        ts = large_image.getTileSource(slide_path)\n",
    "        dsaApiUrl = \"TBD\"\n",
    "        kwargs = dict(format=large_image.tilesource.TILE_FORMAT_NUMPY,region=region)\n",
    "\n",
    "        im_region = ts.getRegion(region=region, format=large_image.tilesource.TILE_FORMAT_NUMPY)[0]\n",
    "        total_tiles = ts.getSingleTile(**kwargs)['iterator_range']['position']\n",
    "\n",
    "\n",
    "        st = time.time()\n",
    "        results = []\n",
    "        for position in range(0, total_tiles, tile_grouping):\n",
    "            results.append(computeTileHist(slide_path, position, min(tile_grouping, total_tiles - position), kwargs))\n",
    "        results = dask.compute(results)\n",
    "\n",
    "\n",
    "        et = time.time() - st\n",
    "        print(et,\"for tilesize of\",tileSize)\n",
    "        runTimeInfo.append({'runTime': et, \"region\": region,\n",
    "                            \"tileSize\": tileSize, \"slide_path\": slide_path,\"tile_grouping\": tile_grouping})"
   ]
  },
  {
   "cell_type": "code",
   "execution_count": 16,
   "id": "cf385e0b",
   "metadata": {},
   "outputs": [
    {
     "data": {
      "application/vnd.plotly.v1+json": {
       "config": {
        "plotlyServerURL": "https://plot.ly"
       },
       "data": [
        {
         "hovertemplate": "runTime=%{x}<br>tileSize=%{y}<extra></extra>",
         "legendgroup": "",
         "marker": {
          "color": "#636efa",
          "symbol": "circle"
         },
         "mode": "markers",
         "name": "",
         "orientation": "v",
         "showlegend": false,
         "type": "scatter",
         "x": [
          1.0045080184936523,
          1.1704466342926025,
          1.824639081954956,
          6.830572605133057,
          15.293732166290283,
          27.343544244766235,
          0.4310011863708496,
          0.6991410255432129,
          1.7476589679718018,
          5.135886192321777,
          3.847784996032715,
          4.397916555404663,
          4.066150903701782,
          0.2333827018737793,
          0.3925912380218506,
          1.5224485397338867,
          4.453020811080933,
          4.461623668670654,
          4.337134838104248,
          4.217117786407471,
          0.4633502960205078,
          0.6242806911468506,
          1.7247600555419922,
          6.655493259429932,
          7.780604839324951,
          7.248055458068848,
          7.621370077133179,
          0.542773962020874,
          0.8384852409362793,
          1.4832570552825928,
          3.0840797424316406,
          4.385380744934082,
          4.0796427726745605,
          3.944431781768799,
          0.4461405277252197,
          0.6744017601013184,
          1.7227208614349365,
          4.655580997467041,
          4.82366156578064,
          5.902284860610962,
          5.183269500732422,
          0.4416942596435547,
          0.7717685699462891,
          1.6453371047973633,
          3.4625205993652344,
          3.9190988540649414,
          4.149243116378784,
          4.761081695556641,
          0.5279314517974854,
          0.7807154655456543,
          1.7399590015411377,
          5.964406490325928,
          14.8784339427948,
          29.15782880783081,
          30.36974000930786,
          0.44936084747314453,
          0.6991093158721924,
          1.807243824005127,
          7.112869739532471,
          9.977080821990967,
          8.789023160934448,
          8.596308469772339,
          0.4453558921813965,
          0.673447847366333,
          1.8603706359863281,
          6.622361421585083,
          14.295387983322144,
          25.60573649406433,
          41.81914305686951,
          0.28792762756347656,
          0.47703027725219727,
          1.6810591220855713,
          7.134749174118042,
          15.189777851104736,
          24.34316349029541,
          48.33796238899231,
          0.4640929698944092,
          0.6890408992767334,
          1.1156096458435059,
          2.292515277862549,
          3.2978317737579346,
          3.1330909729003906,
          3.9387600421905518,
          0.47458720207214355,
          0.6831235885620117,
          1.7496726512908936,
          4.6422953605651855,
          6.186485767364502,
          6.1614274978637695,
          6.584875822067261,
          0.42119407653808594,
          0.7095623016357422,
          1.7263340950012207,
          3.466496229171753,
          3.7987747192382812,
          4.2041473388671875,
          3.5042407512664795,
          0.40302062034606934,
          0.755415678024292,
          1.5379612445831299,
          3.5054283142089844,
          3.9721837043762207,
          3.928027391433716,
          3.8501691818237305
         ],
         "xaxis": "x",
         "y": [
          1000,
          2000,
          4000,
          8000,
          12000,
          16000,
          1000,
          2000,
          4000,
          8000,
          12000,
          16000,
          32000,
          1000,
          2000,
          4000,
          8000,
          12000,
          16000,
          32000,
          1000,
          2000,
          4000,
          8000,
          12000,
          16000,
          32000,
          1000,
          2000,
          4000,
          8000,
          12000,
          16000,
          32000,
          1000,
          2000,
          4000,
          8000,
          12000,
          16000,
          32000,
          1000,
          2000,
          4000,
          8000,
          12000,
          16000,
          32000,
          1000,
          2000,
          4000,
          8000,
          12000,
          16000,
          32000,
          1000,
          2000,
          4000,
          8000,
          12000,
          16000,
          32000,
          1000,
          2000,
          4000,
          8000,
          12000,
          16000,
          32000,
          1000,
          2000,
          4000,
          8000,
          12000,
          16000,
          32000,
          1000,
          2000,
          4000,
          8000,
          12000,
          16000,
          32000,
          1000,
          2000,
          4000,
          8000,
          12000,
          16000,
          32000,
          1000,
          2000,
          4000,
          8000,
          12000,
          16000,
          32000,
          1000,
          2000,
          4000,
          8000,
          12000,
          16000,
          32000
         ],
         "yaxis": "y"
        }
       ],
       "layout": {
        "legend": {
         "tracegroupgap": 0
        },
        "template": {
         "data": {
          "bar": [
           {
            "error_x": {
             "color": "#2a3f5f"
            },
            "error_y": {
             "color": "#2a3f5f"
            },
            "marker": {
             "line": {
              "color": "#E5ECF6",
              "width": 0.5
             },
             "pattern": {
              "fillmode": "overlay",
              "size": 10,
              "solidity": 0.2
             }
            },
            "type": "bar"
           }
          ],
          "barpolar": [
           {
            "marker": {
             "line": {
              "color": "#E5ECF6",
              "width": 0.5
             },
             "pattern": {
              "fillmode": "overlay",
              "size": 10,
              "solidity": 0.2
             }
            },
            "type": "barpolar"
           }
          ],
          "carpet": [
           {
            "aaxis": {
             "endlinecolor": "#2a3f5f",
             "gridcolor": "white",
             "linecolor": "white",
             "minorgridcolor": "white",
             "startlinecolor": "#2a3f5f"
            },
            "baxis": {
             "endlinecolor": "#2a3f5f",
             "gridcolor": "white",
             "linecolor": "white",
             "minorgridcolor": "white",
             "startlinecolor": "#2a3f5f"
            },
            "type": "carpet"
           }
          ],
          "choropleth": [
           {
            "colorbar": {
             "outlinewidth": 0,
             "ticks": ""
            },
            "type": "choropleth"
           }
          ],
          "contour": [
           {
            "colorbar": {
             "outlinewidth": 0,
             "ticks": ""
            },
            "colorscale": [
             [
              0,
              "#0d0887"
             ],
             [
              0.1111111111111111,
              "#46039f"
             ],
             [
              0.2222222222222222,
              "#7201a8"
             ],
             [
              0.3333333333333333,
              "#9c179e"
             ],
             [
              0.4444444444444444,
              "#bd3786"
             ],
             [
              0.5555555555555556,
              "#d8576b"
             ],
             [
              0.6666666666666666,
              "#ed7953"
             ],
             [
              0.7777777777777778,
              "#fb9f3a"
             ],
             [
              0.8888888888888888,
              "#fdca26"
             ],
             [
              1,
              "#f0f921"
             ]
            ],
            "type": "contour"
           }
          ],
          "contourcarpet": [
           {
            "colorbar": {
             "outlinewidth": 0,
             "ticks": ""
            },
            "type": "contourcarpet"
           }
          ],
          "heatmap": [
           {
            "colorbar": {
             "outlinewidth": 0,
             "ticks": ""
            },
            "colorscale": [
             [
              0,
              "#0d0887"
             ],
             [
              0.1111111111111111,
              "#46039f"
             ],
             [
              0.2222222222222222,
              "#7201a8"
             ],
             [
              0.3333333333333333,
              "#9c179e"
             ],
             [
              0.4444444444444444,
              "#bd3786"
             ],
             [
              0.5555555555555556,
              "#d8576b"
             ],
             [
              0.6666666666666666,
              "#ed7953"
             ],
             [
              0.7777777777777778,
              "#fb9f3a"
             ],
             [
              0.8888888888888888,
              "#fdca26"
             ],
             [
              1,
              "#f0f921"
             ]
            ],
            "type": "heatmap"
           }
          ],
          "heatmapgl": [
           {
            "colorbar": {
             "outlinewidth": 0,
             "ticks": ""
            },
            "colorscale": [
             [
              0,
              "#0d0887"
             ],
             [
              0.1111111111111111,
              "#46039f"
             ],
             [
              0.2222222222222222,
              "#7201a8"
             ],
             [
              0.3333333333333333,
              "#9c179e"
             ],
             [
              0.4444444444444444,
              "#bd3786"
             ],
             [
              0.5555555555555556,
              "#d8576b"
             ],
             [
              0.6666666666666666,
              "#ed7953"
             ],
             [
              0.7777777777777778,
              "#fb9f3a"
             ],
             [
              0.8888888888888888,
              "#fdca26"
             ],
             [
              1,
              "#f0f921"
             ]
            ],
            "type": "heatmapgl"
           }
          ],
          "histogram": [
           {
            "marker": {
             "pattern": {
              "fillmode": "overlay",
              "size": 10,
              "solidity": 0.2
             }
            },
            "type": "histogram"
           }
          ],
          "histogram2d": [
           {
            "colorbar": {
             "outlinewidth": 0,
             "ticks": ""
            },
            "colorscale": [
             [
              0,
              "#0d0887"
             ],
             [
              0.1111111111111111,
              "#46039f"
             ],
             [
              0.2222222222222222,
              "#7201a8"
             ],
             [
              0.3333333333333333,
              "#9c179e"
             ],
             [
              0.4444444444444444,
              "#bd3786"
             ],
             [
              0.5555555555555556,
              "#d8576b"
             ],
             [
              0.6666666666666666,
              "#ed7953"
             ],
             [
              0.7777777777777778,
              "#fb9f3a"
             ],
             [
              0.8888888888888888,
              "#fdca26"
             ],
             [
              1,
              "#f0f921"
             ]
            ],
            "type": "histogram2d"
           }
          ],
          "histogram2dcontour": [
           {
            "colorbar": {
             "outlinewidth": 0,
             "ticks": ""
            },
            "colorscale": [
             [
              0,
              "#0d0887"
             ],
             [
              0.1111111111111111,
              "#46039f"
             ],
             [
              0.2222222222222222,
              "#7201a8"
             ],
             [
              0.3333333333333333,
              "#9c179e"
             ],
             [
              0.4444444444444444,
              "#bd3786"
             ],
             [
              0.5555555555555556,
              "#d8576b"
             ],
             [
              0.6666666666666666,
              "#ed7953"
             ],
             [
              0.7777777777777778,
              "#fb9f3a"
             ],
             [
              0.8888888888888888,
              "#fdca26"
             ],
             [
              1,
              "#f0f921"
             ]
            ],
            "type": "histogram2dcontour"
           }
          ],
          "mesh3d": [
           {
            "colorbar": {
             "outlinewidth": 0,
             "ticks": ""
            },
            "type": "mesh3d"
           }
          ],
          "parcoords": [
           {
            "line": {
             "colorbar": {
              "outlinewidth": 0,
              "ticks": ""
             }
            },
            "type": "parcoords"
           }
          ],
          "pie": [
           {
            "automargin": true,
            "type": "pie"
           }
          ],
          "scatter": [
           {
            "fillpattern": {
             "fillmode": "overlay",
             "size": 10,
             "solidity": 0.2
            },
            "type": "scatter"
           }
          ],
          "scatter3d": [
           {
            "line": {
             "colorbar": {
              "outlinewidth": 0,
              "ticks": ""
             }
            },
            "marker": {
             "colorbar": {
              "outlinewidth": 0,
              "ticks": ""
             }
            },
            "type": "scatter3d"
           }
          ],
          "scattercarpet": [
           {
            "marker": {
             "colorbar": {
              "outlinewidth": 0,
              "ticks": ""
             }
            },
            "type": "scattercarpet"
           }
          ],
          "scattergeo": [
           {
            "marker": {
             "colorbar": {
              "outlinewidth": 0,
              "ticks": ""
             }
            },
            "type": "scattergeo"
           }
          ],
          "scattergl": [
           {
            "marker": {
             "colorbar": {
              "outlinewidth": 0,
              "ticks": ""
             }
            },
            "type": "scattergl"
           }
          ],
          "scattermapbox": [
           {
            "marker": {
             "colorbar": {
              "outlinewidth": 0,
              "ticks": ""
             }
            },
            "type": "scattermapbox"
           }
          ],
          "scatterpolar": [
           {
            "marker": {
             "colorbar": {
              "outlinewidth": 0,
              "ticks": ""
             }
            },
            "type": "scatterpolar"
           }
          ],
          "scatterpolargl": [
           {
            "marker": {
             "colorbar": {
              "outlinewidth": 0,
              "ticks": ""
             }
            },
            "type": "scatterpolargl"
           }
          ],
          "scatterternary": [
           {
            "marker": {
             "colorbar": {
              "outlinewidth": 0,
              "ticks": ""
             }
            },
            "type": "scatterternary"
           }
          ],
          "surface": [
           {
            "colorbar": {
             "outlinewidth": 0,
             "ticks": ""
            },
            "colorscale": [
             [
              0,
              "#0d0887"
             ],
             [
              0.1111111111111111,
              "#46039f"
             ],
             [
              0.2222222222222222,
              "#7201a8"
             ],
             [
              0.3333333333333333,
              "#9c179e"
             ],
             [
              0.4444444444444444,
              "#bd3786"
             ],
             [
              0.5555555555555556,
              "#d8576b"
             ],
             [
              0.6666666666666666,
              "#ed7953"
             ],
             [
              0.7777777777777778,
              "#fb9f3a"
             ],
             [
              0.8888888888888888,
              "#fdca26"
             ],
             [
              1,
              "#f0f921"
             ]
            ],
            "type": "surface"
           }
          ],
          "table": [
           {
            "cells": {
             "fill": {
              "color": "#EBF0F8"
             },
             "line": {
              "color": "white"
             }
            },
            "header": {
             "fill": {
              "color": "#C8D4E3"
             },
             "line": {
              "color": "white"
             }
            },
            "type": "table"
           }
          ]
         },
         "layout": {
          "annotationdefaults": {
           "arrowcolor": "#2a3f5f",
           "arrowhead": 0,
           "arrowwidth": 1
          },
          "autotypenumbers": "strict",
          "coloraxis": {
           "colorbar": {
            "outlinewidth": 0,
            "ticks": ""
           }
          },
          "colorscale": {
           "diverging": [
            [
             0,
             "#8e0152"
            ],
            [
             0.1,
             "#c51b7d"
            ],
            [
             0.2,
             "#de77ae"
            ],
            [
             0.3,
             "#f1b6da"
            ],
            [
             0.4,
             "#fde0ef"
            ],
            [
             0.5,
             "#f7f7f7"
            ],
            [
             0.6,
             "#e6f5d0"
            ],
            [
             0.7,
             "#b8e186"
            ],
            [
             0.8,
             "#7fbc41"
            ],
            [
             0.9,
             "#4d9221"
            ],
            [
             1,
             "#276419"
            ]
           ],
           "sequential": [
            [
             0,
             "#0d0887"
            ],
            [
             0.1111111111111111,
             "#46039f"
            ],
            [
             0.2222222222222222,
             "#7201a8"
            ],
            [
             0.3333333333333333,
             "#9c179e"
            ],
            [
             0.4444444444444444,
             "#bd3786"
            ],
            [
             0.5555555555555556,
             "#d8576b"
            ],
            [
             0.6666666666666666,
             "#ed7953"
            ],
            [
             0.7777777777777778,
             "#fb9f3a"
            ],
            [
             0.8888888888888888,
             "#fdca26"
            ],
            [
             1,
             "#f0f921"
            ]
           ],
           "sequentialminus": [
            [
             0,
             "#0d0887"
            ],
            [
             0.1111111111111111,
             "#46039f"
            ],
            [
             0.2222222222222222,
             "#7201a8"
            ],
            [
             0.3333333333333333,
             "#9c179e"
            ],
            [
             0.4444444444444444,
             "#bd3786"
            ],
            [
             0.5555555555555556,
             "#d8576b"
            ],
            [
             0.6666666666666666,
             "#ed7953"
            ],
            [
             0.7777777777777778,
             "#fb9f3a"
            ],
            [
             0.8888888888888888,
             "#fdca26"
            ],
            [
             1,
             "#f0f921"
            ]
           ]
          },
          "colorway": [
           "#636efa",
           "#EF553B",
           "#00cc96",
           "#ab63fa",
           "#FFA15A",
           "#19d3f3",
           "#FF6692",
           "#B6E880",
           "#FF97FF",
           "#FECB52"
          ],
          "font": {
           "color": "#2a3f5f"
          },
          "geo": {
           "bgcolor": "white",
           "lakecolor": "white",
           "landcolor": "#E5ECF6",
           "showlakes": true,
           "showland": true,
           "subunitcolor": "white"
          },
          "hoverlabel": {
           "align": "left"
          },
          "hovermode": "closest",
          "mapbox": {
           "style": "light"
          },
          "paper_bgcolor": "white",
          "plot_bgcolor": "#E5ECF6",
          "polar": {
           "angularaxis": {
            "gridcolor": "white",
            "linecolor": "white",
            "ticks": ""
           },
           "bgcolor": "#E5ECF6",
           "radialaxis": {
            "gridcolor": "white",
            "linecolor": "white",
            "ticks": ""
           }
          },
          "scene": {
           "xaxis": {
            "backgroundcolor": "#E5ECF6",
            "gridcolor": "white",
            "gridwidth": 2,
            "linecolor": "white",
            "showbackground": true,
            "ticks": "",
            "zerolinecolor": "white"
           },
           "yaxis": {
            "backgroundcolor": "#E5ECF6",
            "gridcolor": "white",
            "gridwidth": 2,
            "linecolor": "white",
            "showbackground": true,
            "ticks": "",
            "zerolinecolor": "white"
           },
           "zaxis": {
            "backgroundcolor": "#E5ECF6",
            "gridcolor": "white",
            "gridwidth": 2,
            "linecolor": "white",
            "showbackground": true,
            "ticks": "",
            "zerolinecolor": "white"
           }
          },
          "shapedefaults": {
           "line": {
            "color": "#2a3f5f"
           }
          },
          "ternary": {
           "aaxis": {
            "gridcolor": "white",
            "linecolor": "white",
            "ticks": ""
           },
           "baxis": {
            "gridcolor": "white",
            "linecolor": "white",
            "ticks": ""
           },
           "bgcolor": "#E5ECF6",
           "caxis": {
            "gridcolor": "white",
            "linecolor": "white",
            "ticks": ""
           }
          },
          "title": {
           "x": 0.05
          },
          "xaxis": {
           "automargin": true,
           "gridcolor": "white",
           "linecolor": "white",
           "ticks": "",
           "title": {
            "standoff": 15
           },
           "zerolinecolor": "white",
           "zerolinewidth": 2
          },
          "yaxis": {
           "automargin": true,
           "gridcolor": "white",
           "linecolor": "white",
           "ticks": "",
           "title": {
            "standoff": 15
           },
           "zerolinecolor": "white",
           "zerolinewidth": 2
          }
         }
        },
        "title": {
         "text": "Run time vs tileSize with n_workers=2"
        },
        "xaxis": {
         "anchor": "y",
         "domain": [
          0,
          1
         ],
         "title": {
          "text": "runTime"
         }
        },
        "yaxis": {
         "anchor": "x",
         "domain": [
          0,
          1
         ],
         "title": {
          "text": "tileSize"
         }
        }
       }
      },
      "text/html": [
       "<div>                            <div id=\"8e0c03a2-2669-4216-9273-3e937dd43f8a\" class=\"plotly-graph-div\" style=\"height:525px; width:100%;\"></div>            <script type=\"text/javascript\">                require([\"plotly\"], function(Plotly) {                    window.PLOTLYENV=window.PLOTLYENV || {};                                    if (document.getElementById(\"8e0c03a2-2669-4216-9273-3e937dd43f8a\")) {                    Plotly.newPlot(                        \"8e0c03a2-2669-4216-9273-3e937dd43f8a\",                        [{\"hovertemplate\":\"runTime=%{x}<br>tileSize=%{y}<extra></extra>\",\"legendgroup\":\"\",\"marker\":{\"color\":\"#636efa\",\"symbol\":\"circle\"},\"mode\":\"markers\",\"name\":\"\",\"orientation\":\"v\",\"showlegend\":false,\"x\":[1.0045080184936523,1.1704466342926025,1.824639081954956,6.830572605133057,15.293732166290283,27.343544244766235,0.4310011863708496,0.6991410255432129,1.7476589679718018,5.135886192321777,3.847784996032715,4.397916555404663,4.066150903701782,0.2333827018737793,0.3925912380218506,1.5224485397338867,4.453020811080933,4.461623668670654,4.337134838104248,4.217117786407471,0.4633502960205078,0.6242806911468506,1.7247600555419922,6.655493259429932,7.780604839324951,7.248055458068848,7.621370077133179,0.542773962020874,0.8384852409362793,1.4832570552825928,3.0840797424316406,4.385380744934082,4.0796427726745605,3.944431781768799,0.4461405277252197,0.6744017601013184,1.7227208614349365,4.655580997467041,4.82366156578064,5.902284860610962,5.183269500732422,0.4416942596435547,0.7717685699462891,1.6453371047973633,3.4625205993652344,3.9190988540649414,4.149243116378784,4.761081695556641,0.5279314517974854,0.7807154655456543,1.7399590015411377,5.964406490325928,14.8784339427948,29.15782880783081,30.36974000930786,0.44936084747314453,0.6991093158721924,1.807243824005127,7.112869739532471,9.977080821990967,8.789023160934448,8.596308469772339,0.4453558921813965,0.673447847366333,1.8603706359863281,6.622361421585083,14.295387983322144,25.60573649406433,41.81914305686951,0.28792762756347656,0.47703027725219727,1.6810591220855713,7.134749174118042,15.189777851104736,24.34316349029541,48.33796238899231,0.4640929698944092,0.6890408992767334,1.1156096458435059,2.292515277862549,3.2978317737579346,3.1330909729003906,3.9387600421905518,0.47458720207214355,0.6831235885620117,1.7496726512908936,4.6422953605651855,6.186485767364502,6.1614274978637695,6.584875822067261,0.42119407653808594,0.7095623016357422,1.7263340950012207,3.466496229171753,3.7987747192382812,4.2041473388671875,3.5042407512664795,0.40302062034606934,0.755415678024292,1.5379612445831299,3.5054283142089844,3.9721837043762207,3.928027391433716,3.8501691818237305],\"xaxis\":\"x\",\"y\":[1000,2000,4000,8000,12000,16000,1000,2000,4000,8000,12000,16000,32000,1000,2000,4000,8000,12000,16000,32000,1000,2000,4000,8000,12000,16000,32000,1000,2000,4000,8000,12000,16000,32000,1000,2000,4000,8000,12000,16000,32000,1000,2000,4000,8000,12000,16000,32000,1000,2000,4000,8000,12000,16000,32000,1000,2000,4000,8000,12000,16000,32000,1000,2000,4000,8000,12000,16000,32000,1000,2000,4000,8000,12000,16000,32000,1000,2000,4000,8000,12000,16000,32000,1000,2000,4000,8000,12000,16000,32000,1000,2000,4000,8000,12000,16000,32000,1000,2000,4000,8000,12000,16000,32000],\"yaxis\":\"y\",\"type\":\"scatter\"}],                        {\"template\":{\"data\":{\"histogram2dcontour\":[{\"type\":\"histogram2dcontour\",\"colorbar\":{\"outlinewidth\":0,\"ticks\":\"\"},\"colorscale\":[[0.0,\"#0d0887\"],[0.1111111111111111,\"#46039f\"],[0.2222222222222222,\"#7201a8\"],[0.3333333333333333,\"#9c179e\"],[0.4444444444444444,\"#bd3786\"],[0.5555555555555556,\"#d8576b\"],[0.6666666666666666,\"#ed7953\"],[0.7777777777777778,\"#fb9f3a\"],[0.8888888888888888,\"#fdca26\"],[1.0,\"#f0f921\"]]}],\"choropleth\":[{\"type\":\"choropleth\",\"colorbar\":{\"outlinewidth\":0,\"ticks\":\"\"}}],\"histogram2d\":[{\"type\":\"histogram2d\",\"colorbar\":{\"outlinewidth\":0,\"ticks\":\"\"},\"colorscale\":[[0.0,\"#0d0887\"],[0.1111111111111111,\"#46039f\"],[0.2222222222222222,\"#7201a8\"],[0.3333333333333333,\"#9c179e\"],[0.4444444444444444,\"#bd3786\"],[0.5555555555555556,\"#d8576b\"],[0.6666666666666666,\"#ed7953\"],[0.7777777777777778,\"#fb9f3a\"],[0.8888888888888888,\"#fdca26\"],[1.0,\"#f0f921\"]]}],\"heatmap\":[{\"type\":\"heatmap\",\"colorbar\":{\"outlinewidth\":0,\"ticks\":\"\"},\"colorscale\":[[0.0,\"#0d0887\"],[0.1111111111111111,\"#46039f\"],[0.2222222222222222,\"#7201a8\"],[0.3333333333333333,\"#9c179e\"],[0.4444444444444444,\"#bd3786\"],[0.5555555555555556,\"#d8576b\"],[0.6666666666666666,\"#ed7953\"],[0.7777777777777778,\"#fb9f3a\"],[0.8888888888888888,\"#fdca26\"],[1.0,\"#f0f921\"]]}],\"heatmapgl\":[{\"type\":\"heatmapgl\",\"colorbar\":{\"outlinewidth\":0,\"ticks\":\"\"},\"colorscale\":[[0.0,\"#0d0887\"],[0.1111111111111111,\"#46039f\"],[0.2222222222222222,\"#7201a8\"],[0.3333333333333333,\"#9c179e\"],[0.4444444444444444,\"#bd3786\"],[0.5555555555555556,\"#d8576b\"],[0.6666666666666666,\"#ed7953\"],[0.7777777777777778,\"#fb9f3a\"],[0.8888888888888888,\"#fdca26\"],[1.0,\"#f0f921\"]]}],\"contourcarpet\":[{\"type\":\"contourcarpet\",\"colorbar\":{\"outlinewidth\":0,\"ticks\":\"\"}}],\"contour\":[{\"type\":\"contour\",\"colorbar\":{\"outlinewidth\":0,\"ticks\":\"\"},\"colorscale\":[[0.0,\"#0d0887\"],[0.1111111111111111,\"#46039f\"],[0.2222222222222222,\"#7201a8\"],[0.3333333333333333,\"#9c179e\"],[0.4444444444444444,\"#bd3786\"],[0.5555555555555556,\"#d8576b\"],[0.6666666666666666,\"#ed7953\"],[0.7777777777777778,\"#fb9f3a\"],[0.8888888888888888,\"#fdca26\"],[1.0,\"#f0f921\"]]}],\"surface\":[{\"type\":\"surface\",\"colorbar\":{\"outlinewidth\":0,\"ticks\":\"\"},\"colorscale\":[[0.0,\"#0d0887\"],[0.1111111111111111,\"#46039f\"],[0.2222222222222222,\"#7201a8\"],[0.3333333333333333,\"#9c179e\"],[0.4444444444444444,\"#bd3786\"],[0.5555555555555556,\"#d8576b\"],[0.6666666666666666,\"#ed7953\"],[0.7777777777777778,\"#fb9f3a\"],[0.8888888888888888,\"#fdca26\"],[1.0,\"#f0f921\"]]}],\"mesh3d\":[{\"type\":\"mesh3d\",\"colorbar\":{\"outlinewidth\":0,\"ticks\":\"\"}}],\"scatter\":[{\"fillpattern\":{\"fillmode\":\"overlay\",\"size\":10,\"solidity\":0.2},\"type\":\"scatter\"}],\"parcoords\":[{\"type\":\"parcoords\",\"line\":{\"colorbar\":{\"outlinewidth\":0,\"ticks\":\"\"}}}],\"scatterpolargl\":[{\"type\":\"scatterpolargl\",\"marker\":{\"colorbar\":{\"outlinewidth\":0,\"ticks\":\"\"}}}],\"bar\":[{\"error_x\":{\"color\":\"#2a3f5f\"},\"error_y\":{\"color\":\"#2a3f5f\"},\"marker\":{\"line\":{\"color\":\"#E5ECF6\",\"width\":0.5},\"pattern\":{\"fillmode\":\"overlay\",\"size\":10,\"solidity\":0.2}},\"type\":\"bar\"}],\"scattergeo\":[{\"type\":\"scattergeo\",\"marker\":{\"colorbar\":{\"outlinewidth\":0,\"ticks\":\"\"}}}],\"scatterpolar\":[{\"type\":\"scatterpolar\",\"marker\":{\"colorbar\":{\"outlinewidth\":0,\"ticks\":\"\"}}}],\"histogram\":[{\"marker\":{\"pattern\":{\"fillmode\":\"overlay\",\"size\":10,\"solidity\":0.2}},\"type\":\"histogram\"}],\"scattergl\":[{\"type\":\"scattergl\",\"marker\":{\"colorbar\":{\"outlinewidth\":0,\"ticks\":\"\"}}}],\"scatter3d\":[{\"type\":\"scatter3d\",\"line\":{\"colorbar\":{\"outlinewidth\":0,\"ticks\":\"\"}},\"marker\":{\"colorbar\":{\"outlinewidth\":0,\"ticks\":\"\"}}}],\"scattermapbox\":[{\"type\":\"scattermapbox\",\"marker\":{\"colorbar\":{\"outlinewidth\":0,\"ticks\":\"\"}}}],\"scatterternary\":[{\"type\":\"scatterternary\",\"marker\":{\"colorbar\":{\"outlinewidth\":0,\"ticks\":\"\"}}}],\"scattercarpet\":[{\"type\":\"scattercarpet\",\"marker\":{\"colorbar\":{\"outlinewidth\":0,\"ticks\":\"\"}}}],\"carpet\":[{\"aaxis\":{\"endlinecolor\":\"#2a3f5f\",\"gridcolor\":\"white\",\"linecolor\":\"white\",\"minorgridcolor\":\"white\",\"startlinecolor\":\"#2a3f5f\"},\"baxis\":{\"endlinecolor\":\"#2a3f5f\",\"gridcolor\":\"white\",\"linecolor\":\"white\",\"minorgridcolor\":\"white\",\"startlinecolor\":\"#2a3f5f\"},\"type\":\"carpet\"}],\"table\":[{\"cells\":{\"fill\":{\"color\":\"#EBF0F8\"},\"line\":{\"color\":\"white\"}},\"header\":{\"fill\":{\"color\":\"#C8D4E3\"},\"line\":{\"color\":\"white\"}},\"type\":\"table\"}],\"barpolar\":[{\"marker\":{\"line\":{\"color\":\"#E5ECF6\",\"width\":0.5},\"pattern\":{\"fillmode\":\"overlay\",\"size\":10,\"solidity\":0.2}},\"type\":\"barpolar\"}],\"pie\":[{\"automargin\":true,\"type\":\"pie\"}]},\"layout\":{\"autotypenumbers\":\"strict\",\"colorway\":[\"#636efa\",\"#EF553B\",\"#00cc96\",\"#ab63fa\",\"#FFA15A\",\"#19d3f3\",\"#FF6692\",\"#B6E880\",\"#FF97FF\",\"#FECB52\"],\"font\":{\"color\":\"#2a3f5f\"},\"hovermode\":\"closest\",\"hoverlabel\":{\"align\":\"left\"},\"paper_bgcolor\":\"white\",\"plot_bgcolor\":\"#E5ECF6\",\"polar\":{\"bgcolor\":\"#E5ECF6\",\"angularaxis\":{\"gridcolor\":\"white\",\"linecolor\":\"white\",\"ticks\":\"\"},\"radialaxis\":{\"gridcolor\":\"white\",\"linecolor\":\"white\",\"ticks\":\"\"}},\"ternary\":{\"bgcolor\":\"#E5ECF6\",\"aaxis\":{\"gridcolor\":\"white\",\"linecolor\":\"white\",\"ticks\":\"\"},\"baxis\":{\"gridcolor\":\"white\",\"linecolor\":\"white\",\"ticks\":\"\"},\"caxis\":{\"gridcolor\":\"white\",\"linecolor\":\"white\",\"ticks\":\"\"}},\"coloraxis\":{\"colorbar\":{\"outlinewidth\":0,\"ticks\":\"\"}},\"colorscale\":{\"sequential\":[[0.0,\"#0d0887\"],[0.1111111111111111,\"#46039f\"],[0.2222222222222222,\"#7201a8\"],[0.3333333333333333,\"#9c179e\"],[0.4444444444444444,\"#bd3786\"],[0.5555555555555556,\"#d8576b\"],[0.6666666666666666,\"#ed7953\"],[0.7777777777777778,\"#fb9f3a\"],[0.8888888888888888,\"#fdca26\"],[1.0,\"#f0f921\"]],\"sequentialminus\":[[0.0,\"#0d0887\"],[0.1111111111111111,\"#46039f\"],[0.2222222222222222,\"#7201a8\"],[0.3333333333333333,\"#9c179e\"],[0.4444444444444444,\"#bd3786\"],[0.5555555555555556,\"#d8576b\"],[0.6666666666666666,\"#ed7953\"],[0.7777777777777778,\"#fb9f3a\"],[0.8888888888888888,\"#fdca26\"],[1.0,\"#f0f921\"]],\"diverging\":[[0,\"#8e0152\"],[0.1,\"#c51b7d\"],[0.2,\"#de77ae\"],[0.3,\"#f1b6da\"],[0.4,\"#fde0ef\"],[0.5,\"#f7f7f7\"],[0.6,\"#e6f5d0\"],[0.7,\"#b8e186\"],[0.8,\"#7fbc41\"],[0.9,\"#4d9221\"],[1,\"#276419\"]]},\"xaxis\":{\"gridcolor\":\"white\",\"linecolor\":\"white\",\"ticks\":\"\",\"title\":{\"standoff\":15},\"zerolinecolor\":\"white\",\"automargin\":true,\"zerolinewidth\":2},\"yaxis\":{\"gridcolor\":\"white\",\"linecolor\":\"white\",\"ticks\":\"\",\"title\":{\"standoff\":15},\"zerolinecolor\":\"white\",\"automargin\":true,\"zerolinewidth\":2},\"scene\":{\"xaxis\":{\"backgroundcolor\":\"#E5ECF6\",\"gridcolor\":\"white\",\"linecolor\":\"white\",\"showbackground\":true,\"ticks\":\"\",\"zerolinecolor\":\"white\",\"gridwidth\":2},\"yaxis\":{\"backgroundcolor\":\"#E5ECF6\",\"gridcolor\":\"white\",\"linecolor\":\"white\",\"showbackground\":true,\"ticks\":\"\",\"zerolinecolor\":\"white\",\"gridwidth\":2},\"zaxis\":{\"backgroundcolor\":\"#E5ECF6\",\"gridcolor\":\"white\",\"linecolor\":\"white\",\"showbackground\":true,\"ticks\":\"\",\"zerolinecolor\":\"white\",\"gridwidth\":2}},\"shapedefaults\":{\"line\":{\"color\":\"#2a3f5f\"}},\"annotationdefaults\":{\"arrowcolor\":\"#2a3f5f\",\"arrowhead\":0,\"arrowwidth\":1},\"geo\":{\"bgcolor\":\"white\",\"landcolor\":\"#E5ECF6\",\"subunitcolor\":\"white\",\"showland\":true,\"showlakes\":true,\"lakecolor\":\"white\"},\"title\":{\"x\":0.05},\"mapbox\":{\"style\":\"light\"}}},\"xaxis\":{\"anchor\":\"y\",\"domain\":[0.0,1.0],\"title\":{\"text\":\"runTime\"}},\"yaxis\":{\"anchor\":\"x\",\"domain\":[0.0,1.0],\"title\":{\"text\":\"tileSize\"}},\"legend\":{\"tracegroupgap\":0},\"title\":{\"text\":\"Run time vs tileSize with n_workers=2\"}},                        {\"responsive\": true}                    ).then(function(){\n",
       "                            \n",
       "var gd = document.getElementById('8e0c03a2-2669-4216-9273-3e937dd43f8a');\n",
       "var x = new MutationObserver(function (mutations, observer) {{\n",
       "        var display = window.getComputedStyle(gd).display;\n",
       "        if (!display || display === 'none') {{\n",
       "            console.log([gd, 'removed!']);\n",
       "            Plotly.purge(gd);\n",
       "            observer.disconnect();\n",
       "        }}\n",
       "}});\n",
       "\n",
       "// Listen for the removal of the full notebook cells\n",
       "var notebookContainer = gd.closest('#notebook-container');\n",
       "if (notebookContainer) {{\n",
       "    x.observe(notebookContainer, {childList: true});\n",
       "}}\n",
       "\n",
       "// Listen for the clearing of the current output cell\n",
       "var outputEl = gd.closest('.output');\n",
       "if (outputEl) {{\n",
       "    x.observe(outputEl, {childList: true});\n",
       "}}\n",
       "\n",
       "                        })                };                });            </script>        </div>"
      ]
     },
     "metadata": {},
     "output_type": "display_data"
    }
   ],
   "source": [
    "import pandas as pd\n",
    "\n",
    "\n",
    "df = pd.DataFrame(runTimeInfo)\n",
    "\n",
    "px.scatter(df,x='runTime', y='tileSize',title=\"Run time vs tileSize with n_workers=2\")"
   ]
  },
  {
   "cell_type": "code",
   "execution_count": 12,
   "id": "0c155cf8",
   "metadata": {},
   "outputs": [
    {
     "data": {
      "text/plain": [
       "['SmallSampleFiles/TCGA-19-1787-01C-01-TS1.b9f6f0f2-14f2-4bc5-b7f8-9520ec38eb98.svs',\n",
       " 'SmallSampleFiles/TCGA-08-0509-01A-01-TS1.27f6ae4c-e445-4e2e-a94b-31d449ba69c9.svs',\n",
       " 'SmallSampleFiles/TCGA-12-0654-01C-01-BS1.52cba7d5-7130-48c1-a31e-349f8b12822b.svs',\n",
       " 'SmallSampleFiles/TCGA-06-5417-01A-01-TS1.a84b8f46-a57d-469d-a65e-4aa5f45da5f3.svs',\n",
       " 'SmallSampleFiles/TCGA-19-1387-01A-01-TS1.ff52185b-1cd8-49d4-bb3d-739b5b75b6fb.svs',\n",
       " 'SmallSampleFiles/TCGA-06-5412-01A-01-TS1.4e47da5e-588a-4cc1-8c10-a701764b1f7c.svs',\n",
       " 'SmallSampleFiles/TCGA-28-5211-01D-01-TS1.c05a78f8-ca45-4493-b96f-ab70fadd3a2c.svs',\n",
       " 'SmallSampleFiles/TCGA-19-2623-01B-01-TS1.f7894961-4e2c-4bfd-90df-442d1933fef9.svs',\n",
       " 'SmallSampleFiles/TCGA-12-0820-01Z-00-DX1.43DEB9E2-D419-4263-8188-20FEBB070AAF.svs',\n",
       " 'SmallSampleFiles/TCGA-12-0620-01Z-00-DX1.5d4cc50f-9b78-4b8b-8e8e-1c20ae415d71.svs',\n",
       " 'SmallSampleFiles/TCGA-06-5416-01A-01-TS1.1749a247-c33d-4a06-88f2-4deef3c5d982.svs',\n",
       " 'SmallSampleFiles/TCGA-06-5414-01A-01-TS1.660d19f8-1237-47f0-8d5d-71037df4ed67.svs',\n",
       " 'SmallSampleFiles/TCGA-06-5408-01A-01-TS1.68665795-aac7-4a6d-9a14-c306bc941b26.svs',\n",
       " 'SmallSampleFiles/TCGA-06-5418-01A-01-TS1.6600b787-bac7-4ad1-8711-f27bae721e7a.svs']"
      ]
     },
     "execution_count": 12,
     "metadata": {},
     "output_type": "execute_result"
    }
   ],
   "source": []
  },
  {
   "cell_type": "code",
   "execution_count": null,
   "id": "db7b52e0",
   "metadata": {},
   "outputs": [],
   "source": [
    "df"
   ]
  },
  {
   "cell_type": "code",
   "execution_count": 18,
   "id": "739d3be1",
   "metadata": {},
   "outputs": [],
   "source": [
    "flattened_results = []\n",
    "\n",
    "for ta in results:\n",
    "    for tb in ta:\n",
    "        for tc in tb:\n",
    "            flattened_results.append(tc)\n",
    "        \n",
    "computeHist = [x['computeHist'] for x in flattened_results]\n",
    "genAvgColor = [x['genAvgColor'] for x in flattened_results]"
   ]
  },
  {
   "cell_type": "code",
   "execution_count": 19,
   "id": "e9807fda",
   "metadata": {},
   "outputs": [
    {
     "data": {
      "application/vnd.plotly.v1+json": {
       "config": {
        "plotlyServerURL": "https://plot.ly"
       },
       "data": [
        {
         "alignmentgroup": "True",
         "bingroup": "x",
         "hovertemplate": "variable=0<br>value=%{x}<br>count=%{y}<extra></extra>",
         "legendgroup": "0",
         "marker": {
          "color": "#636efa",
          "pattern": {
           "shape": ""
          }
         },
         "name": "0",
         "offsetgroup": "0",
         "orientation": "v",
         "showlegend": true,
         "type": "histogram",
         "x": [
          0.020610570907592773,
          0.0055887699127197266,
          0.006630897521972656,
          0.0061762332916259766,
          0.009752035140991211,
          0.006991386413574219,
          0.0077054500579833984,
          0.010462760925292969,
          0.009473323822021484,
          0.006237506866455078,
          0.006644725799560547,
          0.007744312286376953,
          0.0070421695709228516,
          0.006726980209350586,
          0.005130290985107422,
          0.007988929748535156,
          0.006406068801879883,
          0.006016969680786133,
          0.0076982975006103516,
          0.006056070327758789,
          0.008253812789916992,
          0.008677959442138672,
          0.008922815322875977,
          0.008896827697753906,
          0.006138324737548828,
          0.007608175277709961,
          0.008479833602905273,
          0.005842685699462891,
          0.00991964340209961,
          0.006503582000732422,
          0.0076885223388671875,
          0.007664680480957031,
          0.0065479278564453125,
          0.01232147216796875,
          0.008345365524291992,
          0.00838470458984375,
          0.008672952651977539,
          0.006251335144042969,
          0.0074465274810791016,
          0.008690595626831055,
          0.006338357925415039,
          0.006888389587402344,
          0.00712275505065918,
          0.006990671157836914,
          0.0059528350830078125,
          0.007180690765380859,
          0.006345987319946289,
          0.007656574249267578,
          0.007824420928955078,
          0.006051778793334961,
          0.00741887092590332,
          0.0053272247314453125,
          0.004646778106689453,
          0.005616188049316406,
          0.005601406097412109,
          0.006613969802856445,
          0.006068229675292969,
          0.004254341125488281,
          0.005765199661254883,
          0.006083011627197266,
          0.007885456085205078,
          0.00820612907409668,
          0.0066454410552978516,
          0.005206108093261719,
          0.0035500526428222656,
          0.007947444915771484,
          0.008256196975708008,
          0.006583690643310547,
          0.0073206424713134766,
          0.005881547927856445,
          0.007957935333251953,
          0.007638454437255859,
          0.007827281951904297,
          0.006522178649902344,
          0.00722956657409668,
          0.007708072662353516,
          0.013089895248413086,
          0.0075418949127197266,
          0.009991168975830078,
          0.008310079574584961,
          0.008746147155761719,
          0.0064699649810791016,
          0.008399248123168945,
          0.0076677799224853516,
          0.010557413101196289,
          0.010172605514526367,
          0.006998300552368164,
          0.006674528121948242,
          0.006293535232543945,
          0.007399082183837891,
          0.008780956268310547,
          0.006603240966796875,
          0.004132270812988281,
          0.007749319076538086,
          0.007087230682373047,
          0.005983591079711914,
          0.007482290267944336,
          0.00859975814819336,
          0.005193471908569336,
          0.005067110061645508,
          0.0061495304107666016,
          0.004143238067626953,
          0.006113767623901367,
          0.006609201431274414,
          0.0069811344146728516,
          0.007908821105957031,
          0.006691932678222656,
          0.007300853729248047,
          0.00840616226196289,
          0.004752635955810547,
          0.00432586669921875,
          0.006417036056518555,
          0.006658315658569336,
          0.005879402160644531,
          0.006326198577880859,
          0.0060577392578125,
          0.006428718566894531,
          0.0077970027923583984,
          0.00612187385559082,
          0.005280256271362305,
          0.004280567169189453,
          0.006884098052978516,
          0.005861997604370117,
          0.0060803890228271484,
          0.006340742111206055,
          0.005944490432739258,
          0.006345987319946289,
          0.0069048404693603516,
          0.009964227676391602,
          0.006670713424682617,
          0.008712291717529297,
          0.006516456604003906,
          0.010675430297851562,
          0.008450031280517578,
          0.006837129592895508,
          0.007213592529296875,
          0.0069427490234375,
          0.008649587631225586,
          0.006478309631347656,
          0.008497476577758789,
          0.006223917007446289,
          0.0057604312896728516,
          0.00630497932434082,
          0.007364988327026367,
          0.006711006164550781,
          0.0071392059326171875,
          0.007658481597900391,
          0.008046627044677734,
          0.009088277816772461,
          0.006612539291381836,
          0.009345293045043945,
          0.008296489715576172,
          0.007197856903076172,
          0.007619142532348633,
          0.006786823272705078,
          0.007027387619018555,
          0.007325887680053711,
          0.007005929946899414,
          0.0047321319580078125,
          0.006640911102294922,
          0.004245281219482422,
          0.009473085403442383,
          0.008300304412841797,
          0.006539583206176758,
          0.006881237030029297,
          0.007140636444091797,
          0.007785797119140625,
          0.006643056869506836,
          0.006639242172241211,
          0.007458209991455078,
          0.006515979766845703,
          0.007117271423339844,
          0.009057998657226562,
          0.008689403533935547,
          0.007509469985961914,
          0.006583690643310547,
          0.009310007095336914,
          0.006226062774658203,
          0.009783029556274414,
          0.007036685943603516,
          0.012798309326171875,
          0.00957179069519043,
          0.006832122802734375,
          0.008661746978759766,
          0.006746530532836914,
          0.005307435989379883,
          0.006689310073852539,
          0.006971836090087891,
          0.005682468414306641,
          0.005187273025512695,
          0.005359172821044922,
          0.006380558013916016,
          0.012690067291259766,
          0.008968353271484375,
          0.0067174434661865234,
          0.00629425048828125,
          0.00735163688659668,
          0.008946895599365234,
          0.007654905319213867,
          0.0073468685150146484,
          0.0068700313568115234,
          0.008269786834716797,
          0.008520841598510742,
          0.00921630859375,
          0.008548974990844727,
          0.008414030075073242,
          0.00713038444519043,
          0.010519742965698242,
          0.009102106094360352,
          0.008137941360473633,
          0.0071527957916259766,
          0.006956338882446289,
          0.007761955261230469,
          0.008451223373413086,
          0.008287191390991211,
          0.009071111679077148,
          0.006745576858520508,
          0.006289482116699219,
          0.006883144378662109,
          0.007585763931274414,
          0.003826141357421875,
          0.005647897720336914,
          0.0070171356201171875,
          0.0053293704986572266,
          0.007128477096557617,
          0.006765604019165039,
          0.007822036743164062,
          0.006396770477294922,
          0.006748199462890625,
          0.007497310638427734,
          0.00558781623840332,
          0.0074040889739990234,
          0.007616519927978516,
          0.006060123443603516,
          0.00748443603515625,
          0.008662939071655273,
          0.008127689361572266,
          0.00673985481262207,
          0.0074138641357421875,
          0.005655527114868164,
          0.005329608917236328,
          0.004216670989990234,
          0.00824427604675293,
          0.007098197937011719,
          0.007779359817504883,
          0.007851123809814453,
          0.007211446762084961,
          0.007960081100463867,
          0.007659912109375,
          0.0057218074798583984,
          0.005917072296142578,
          0.00458836555480957,
          0.00561213493347168,
          0.005078554153442383,
          0.006940364837646484,
          0.00774693489074707,
          0.006815671920776367,
          0.006434202194213867,
          0.00526118278503418,
          0.006575345993041992,
          0.006251335144042969,
          0.006736278533935547,
          0.005944013595581055,
          0.005999088287353516,
          0.006795406341552734,
          0.007069587707519531,
          0.007779598236083984,
          0.007475376129150391,
          0.0069234371185302734,
          0.00548100471496582,
          0.007868051528930664,
          0.0061490535736083984,
          0.006941795349121094,
          0.008186578750610352,
          0.007145881652832031,
          0.00972437858581543,
          0.0073604583740234375,
          0.010437488555908203,
          0.008966684341430664,
          0.0072596073150634766,
          0.004950046539306641,
          0.00736689567565918,
          0.006842613220214844,
          0.008599042892456055,
          0.006514072418212891,
          0.006327390670776367,
          0.006193637847900391,
          0.009011030197143555,
          0.006630897521972656,
          0.007417917251586914,
          0.0068705081939697266,
          0.008289575576782227,
          0.006214618682861328,
          0.00836634635925293,
          0.006017446517944336,
          0.00576472282409668,
          0.006134748458862305,
          0.006893634796142578,
          0.007428884506225586,
          0.0060901641845703125,
          0.00716853141784668,
          0.006666660308837891,
          0.0063114166259765625,
          0.006628990173339844,
          0.006719350814819336,
          0.006100177764892578,
          0.007733821868896484,
          0.006943702697753906,
          0.0072078704833984375,
          0.007121086120605469,
          0.006923198699951172,
          0.007097482681274414,
          0.00750422477722168,
          0.005024433135986328,
          0.005950450897216797,
          0.008396625518798828,
          0.005448102951049805,
          0.007506370544433594,
          0.006166696548461914,
          0.005240201950073242,
          0.018556594848632812,
          0.021421432495117188,
          0.024903297424316406,
          0.027563095092773438,
          0.025036096572875977,
          0.03591203689575195,
          0.031029939651489258,
          0.03450632095336914,
          0.02825450897216797,
          0.0238037109375,
          0.02118539810180664,
          0.020317792892456055,
          0.018843889236450195,
          0.0055310726165771484,
          0.005619049072265625,
          0.003995418548583984,
          0.0054895877838134766,
          0.006872892379760742,
          0.006198406219482422,
          0.006014108657836914,
          0.004399299621582031,
          0.004630327224731445,
          0.005782127380371094,
          0.005969524383544922,
          0.005820035934448242,
          0.004731655120849609,
          0.005431175231933594,
          0.006247997283935547,
          0.005373954772949219,
          0.004857540130615234,
          0.004047393798828125,
          0.003554821014404297,
          0.006371736526489258,
          0.007818937301635742,
          0.0074007511138916016,
          0.006942033767700195,
          0.005901813507080078,
          0.007212400436401367,
          0.007078886032104492,
          0.007914304733276367,
          0.0061190128326416016,
          0.008345365524291992,
          0.006704568862915039,
          0.0067119598388671875,
          0.005847454071044922,
          0.005913257598876953,
          0.006352663040161133,
          0.006844043731689453,
          0.0057430267333984375,
          0.0038039684295654297,
          0.00522160530090332,
          0.005680561065673828,
          0.005163669586181641,
          0.005411624908447266,
          0.0050809383392333984,
          0.005338907241821289,
          0.005776166915893555,
          0.006832122802734375,
          0.00478672981262207,
          0.006894826889038086,
          0.010748624801635742,
          0.007565736770629883,
          0.00572967529296875,
          0.003435850143432617,
          0.03360915184020996,
          0.0248105525970459,
          0.025351524353027344,
          0.031796932220458984,
          0.03514719009399414,
          0.03180575370788574,
          0.03032374382019043,
          0.025825977325439453,
          0.020405054092407227,
          0.022768497467041016,
          0.019780874252319336,
          0.022913217544555664,
          0.024257421493530273,
          0.02680516242980957,
          0.022809982299804688,
          0.027942895889282227,
          0.024489402770996094,
          0.027312278747558594,
          0.02854633331298828,
          0.025899410247802734,
          0.017066001892089844,
          0.019895315170288086,
          0.015266180038452148,
          0.012988567352294922,
          0.013047933578491211,
          0.014678001403808594,
          0.021770238876342773,
          0.020717144012451172,
          0.011345624923706055,
          0.01154184341430664,
          0.009260416030883789,
          0.008033037185668945,
          0.007492542266845703,
          0.0062541961669921875,
          0.00864410400390625,
          0.008740663528442383,
          0.006623744964599609,
          0.006356477737426758,
          0.007521390914916992,
          0.005263805389404297,
          0.0068280696868896484,
          0.009095191955566406,
          0.00740361213684082,
          0.008661985397338867,
          0.00649261474609375,
          0.005845069885253906,
          0.005258798599243164,
          0.006292581558227539,
          0.006128072738647461,
          0.005478858947753906,
          0.00692439079284668,
          0.004669189453125,
          0.006764650344848633,
          0.005860805511474609,
          0.005196571350097656,
          0.0059931278228759766,
          0.004724264144897461,
          0.006131172180175781,
          0.006304264068603516,
          0.006117820739746094,
          0.008723258972167969,
          0.005815267562866211,
          0.005179882049560547,
          0.004630565643310547,
          0.02266407012939453,
          0.0225372314453125,
          0.028352737426757812,
          0.0256500244140625,
          0.02231884002685547,
          0.022048234939575195,
          0.020467519760131836,
          0.01748204231262207,
          0.019363880157470703,
          0.02238178253173828,
          0.023277997970581055,
          0.025743961334228516,
          0.032056570053100586,
          0.026599884033203125,
          0.029956817626953125,
          0.028063535690307617,
          0.01779484748840332,
          0.0216672420501709,
          0.021576404571533203,
          0.02189922332763672,
          0.02280712127685547,
          0.017479419708251953,
          0.023462772369384766,
          0.03036808967590332,
          0.025233030319213867,
          0.02281641960144043,
          0.020336627960205078,
          0.013341903686523438,
          0.01866459846496582,
          0.012512683868408203,
          0.009200096130371094,
          0.007912397384643555,
          0.006440877914428711,
          0.008437156677246094,
          0.00871133804321289,
          0.006108283996582031,
          0.005493640899658203,
          0.006850481033325195,
          0.006991863250732422,
          0.009281158447265625,
          0.008497238159179688,
          0.007481098175048828,
          0.007681846618652344,
          0.005423784255981445,
          0.005610466003417969,
          0.006437063217163086,
          0.006057262420654297,
          0.0077474117279052734,
          0.008475780487060547,
          0.006769895553588867,
          0.009321928024291992,
          0.00784158706665039,
          0.007554292678833008,
          0.008886337280273438,
          0.006445884704589844,
          0.007481813430786133,
          0.006970405578613281,
          0.008033990859985352,
          0.007753610610961914,
          0.00889897346496582,
          0.0054438114166259766,
          0.007536888122558594,
          0.007564067840576172,
          0.008689641952514648,
          0.005476951599121094,
          0.007695198059082031,
          0.007401466369628906,
          0.007375240325927734,
          0.0059206485748291016,
          0.003851652145385742,
          0.008247852325439453,
          0.00461888313293457,
          0.006711006164550781,
          0.005928993225097656,
          0.006945371627807617,
          0.00760197639465332,
          0.006129741668701172,
          0.006871223449707031,
          0.0063397884368896484,
          0.00492095947265625,
          0.005514860153198242,
          0.00553584098815918,
          0.005009174346923828,
          0.004917144775390625,
          0.005798816680908203,
          0.00573420524597168,
          0.005280256271362305,
          0.00589299201965332,
          0.006487369537353516,
          0.006742954254150391,
          0.006341457366943359,
          0.0074710845947265625,
          0.004733085632324219,
          0.00593876838684082,
          0.007924795150756836,
          0.007178544998168945,
          0.026931047439575195,
          0.0055239200592041016,
          0.00706791877746582,
          0.0067291259765625,
          0.005949497222900391,
          0.006434440612792969,
          0.006510496139526367,
          0.007922649383544922,
          0.006370067596435547,
          0.007581949234008789,
          0.008878469467163086,
          0.005720853805541992,
          0.007971525192260742,
          0.006370067596435547,
          0.0064656734466552734,
          0.007425546646118164,
          0.008896589279174805,
          0.01034688949584961,
          0.008387565612792969,
          0.009522199630737305,
          0.013182401657104492,
          0.00959920883178711,
          0.007929086685180664,
          0.007567405700683594,
          0.007831573486328125,
          0.006488323211669922,
          0.006886720657348633,
          0.00663304328918457,
          0.005800962448120117,
          0.005357980728149414,
          0.004568815231323242,
          0.005864143371582031,
          0.028507709503173828,
          0.008549213409423828,
          0.0065038204193115234,
          0.007563591003417969,
          0.0065364837646484375,
          0.007637739181518555,
          0.005974531173706055,
          0.008890390396118164,
          0.007773160934448242,
          0.008458375930786133,
          0.0068171024322509766,
          0.006198406219482422,
          0.006537914276123047,
          0.006314277648925781,
          0.0071849822998046875,
          0.010300159454345703,
          0.0068776607513427734,
          0.00808405876159668,
          0.007294416427612305,
          0.008315086364746094,
          0.00963449478149414,
          0.008384466171264648,
          0.0064601898193359375,
          0.010168790817260742,
          0.0066547393798828125,
          0.008527278900146484,
          0.008402347564697266,
          0.006094932556152344,
          0.007006645202636719,
          0.005411386489868164,
          0.007653474807739258,
          0.007330417633056641,
          0.004198789596557617,
          0.01242971420288086,
          0.007002353668212891,
          0.0061457157135009766,
          0.006510019302368164,
          0.007867097854614258,
          0.0064105987548828125,
          0.007164955139160156,
          0.0072021484375,
          0.0069200992584228516,
          0.007611989974975586,
          0.005989551544189453,
          0.00561213493347168,
          0.009328365325927734,
          0.00878143310546875,
          0.006520986557006836,
          0.006056785583496094,
          0.007353544235229492,
          0.008736371994018555,
          0.0058405399322509766,
          0.0077512264251708984,
          0.005928993225097656,
          0.006299257278442383,
          0.008640766143798828,
          0.0076656341552734375,
          0.008595705032348633,
          0.006057262420654297,
          0.006749868392944336,
          0.007615566253662109,
          0.008095979690551758,
          0.007620573043823242,
          0.0051746368408203125,
          0.026086807250976562,
          0.008177042007446289,
          0.007616758346557617,
          0.007520914077758789,
          0.008170366287231445,
          0.007467508316040039,
          0.008816957473754883,
          0.0061550140380859375,
          0.006135702133178711,
          0.00788569450378418,
          0.004912614822387695,
          0.006143331527709961,
          0.00785374641418457,
          0.0077707767486572266,
          0.007616519927978516,
          0.00713658332824707,
          0.009532451629638672,
          0.006512880325317383,
          0.007584810256958008,
          0.01080322265625,
          0.008404731750488281,
          0.007391691207885742,
          0.008355855941772461,
          0.008411407470703125,
          0.008049488067626953,
          0.009196758270263672,
          0.004266262054443359,
          0.0032575130462646484,
          0.0034520626068115234,
          0.005161285400390625,
          0.002926349639892578,
          0.0027081966400146484,
          0.006613254547119141,
          0.0028874874114990234,
          0.00877070426940918,
          0.0018444061279296875,
          0.002470254898071289,
          0.00432133674621582,
          0.0032019615173339844,
          0.0025687217712402344,
          0.003408670425415039,
          0.002360820770263672,
          0.002026081085205078,
          0.003647327423095703,
          0.002365589141845703,
          0.0035505294799804688,
          0.003908872604370117,
          0.005112409591674805,
          0.004914522171020508,
          0.003302335739135742,
          0.004482269287109375,
          0.0029740333557128906,
          0.002166271209716797,
          0.0023796558380126953,
          0.002515077590942383,
          0.0031096935272216797,
          0.0026438236236572266,
          0.0034568309783935547,
          0.015824317932128906,
          0.01781177520751953,
          0.016594886779785156,
          0.019491195678710938,
          0.01794147491455078
         ],
         "xaxis": "x",
         "yaxis": "y"
        }
       ],
       "layout": {
        "barmode": "relative",
        "legend": {
         "title": {
          "text": "variable"
         },
         "tracegroupgap": 0
        },
        "template": {
         "data": {
          "bar": [
           {
            "error_x": {
             "color": "#2a3f5f"
            },
            "error_y": {
             "color": "#2a3f5f"
            },
            "marker": {
             "line": {
              "color": "#E5ECF6",
              "width": 0.5
             },
             "pattern": {
              "fillmode": "overlay",
              "size": 10,
              "solidity": 0.2
             }
            },
            "type": "bar"
           }
          ],
          "barpolar": [
           {
            "marker": {
             "line": {
              "color": "#E5ECF6",
              "width": 0.5
             },
             "pattern": {
              "fillmode": "overlay",
              "size": 10,
              "solidity": 0.2
             }
            },
            "type": "barpolar"
           }
          ],
          "carpet": [
           {
            "aaxis": {
             "endlinecolor": "#2a3f5f",
             "gridcolor": "white",
             "linecolor": "white",
             "minorgridcolor": "white",
             "startlinecolor": "#2a3f5f"
            },
            "baxis": {
             "endlinecolor": "#2a3f5f",
             "gridcolor": "white",
             "linecolor": "white",
             "minorgridcolor": "white",
             "startlinecolor": "#2a3f5f"
            },
            "type": "carpet"
           }
          ],
          "choropleth": [
           {
            "colorbar": {
             "outlinewidth": 0,
             "ticks": ""
            },
            "type": "choropleth"
           }
          ],
          "contour": [
           {
            "colorbar": {
             "outlinewidth": 0,
             "ticks": ""
            },
            "colorscale": [
             [
              0,
              "#0d0887"
             ],
             [
              0.1111111111111111,
              "#46039f"
             ],
             [
              0.2222222222222222,
              "#7201a8"
             ],
             [
              0.3333333333333333,
              "#9c179e"
             ],
             [
              0.4444444444444444,
              "#bd3786"
             ],
             [
              0.5555555555555556,
              "#d8576b"
             ],
             [
              0.6666666666666666,
              "#ed7953"
             ],
             [
              0.7777777777777778,
              "#fb9f3a"
             ],
             [
              0.8888888888888888,
              "#fdca26"
             ],
             [
              1,
              "#f0f921"
             ]
            ],
            "type": "contour"
           }
          ],
          "contourcarpet": [
           {
            "colorbar": {
             "outlinewidth": 0,
             "ticks": ""
            },
            "type": "contourcarpet"
           }
          ],
          "heatmap": [
           {
            "colorbar": {
             "outlinewidth": 0,
             "ticks": ""
            },
            "colorscale": [
             [
              0,
              "#0d0887"
             ],
             [
              0.1111111111111111,
              "#46039f"
             ],
             [
              0.2222222222222222,
              "#7201a8"
             ],
             [
              0.3333333333333333,
              "#9c179e"
             ],
             [
              0.4444444444444444,
              "#bd3786"
             ],
             [
              0.5555555555555556,
              "#d8576b"
             ],
             [
              0.6666666666666666,
              "#ed7953"
             ],
             [
              0.7777777777777778,
              "#fb9f3a"
             ],
             [
              0.8888888888888888,
              "#fdca26"
             ],
             [
              1,
              "#f0f921"
             ]
            ],
            "type": "heatmap"
           }
          ],
          "heatmapgl": [
           {
            "colorbar": {
             "outlinewidth": 0,
             "ticks": ""
            },
            "colorscale": [
             [
              0,
              "#0d0887"
             ],
             [
              0.1111111111111111,
              "#46039f"
             ],
             [
              0.2222222222222222,
              "#7201a8"
             ],
             [
              0.3333333333333333,
              "#9c179e"
             ],
             [
              0.4444444444444444,
              "#bd3786"
             ],
             [
              0.5555555555555556,
              "#d8576b"
             ],
             [
              0.6666666666666666,
              "#ed7953"
             ],
             [
              0.7777777777777778,
              "#fb9f3a"
             ],
             [
              0.8888888888888888,
              "#fdca26"
             ],
             [
              1,
              "#f0f921"
             ]
            ],
            "type": "heatmapgl"
           }
          ],
          "histogram": [
           {
            "marker": {
             "pattern": {
              "fillmode": "overlay",
              "size": 10,
              "solidity": 0.2
             }
            },
            "type": "histogram"
           }
          ],
          "histogram2d": [
           {
            "colorbar": {
             "outlinewidth": 0,
             "ticks": ""
            },
            "colorscale": [
             [
              0,
              "#0d0887"
             ],
             [
              0.1111111111111111,
              "#46039f"
             ],
             [
              0.2222222222222222,
              "#7201a8"
             ],
             [
              0.3333333333333333,
              "#9c179e"
             ],
             [
              0.4444444444444444,
              "#bd3786"
             ],
             [
              0.5555555555555556,
              "#d8576b"
             ],
             [
              0.6666666666666666,
              "#ed7953"
             ],
             [
              0.7777777777777778,
              "#fb9f3a"
             ],
             [
              0.8888888888888888,
              "#fdca26"
             ],
             [
              1,
              "#f0f921"
             ]
            ],
            "type": "histogram2d"
           }
          ],
          "histogram2dcontour": [
           {
            "colorbar": {
             "outlinewidth": 0,
             "ticks": ""
            },
            "colorscale": [
             [
              0,
              "#0d0887"
             ],
             [
              0.1111111111111111,
              "#46039f"
             ],
             [
              0.2222222222222222,
              "#7201a8"
             ],
             [
              0.3333333333333333,
              "#9c179e"
             ],
             [
              0.4444444444444444,
              "#bd3786"
             ],
             [
              0.5555555555555556,
              "#d8576b"
             ],
             [
              0.6666666666666666,
              "#ed7953"
             ],
             [
              0.7777777777777778,
              "#fb9f3a"
             ],
             [
              0.8888888888888888,
              "#fdca26"
             ],
             [
              1,
              "#f0f921"
             ]
            ],
            "type": "histogram2dcontour"
           }
          ],
          "mesh3d": [
           {
            "colorbar": {
             "outlinewidth": 0,
             "ticks": ""
            },
            "type": "mesh3d"
           }
          ],
          "parcoords": [
           {
            "line": {
             "colorbar": {
              "outlinewidth": 0,
              "ticks": ""
             }
            },
            "type": "parcoords"
           }
          ],
          "pie": [
           {
            "automargin": true,
            "type": "pie"
           }
          ],
          "scatter": [
           {
            "fillpattern": {
             "fillmode": "overlay",
             "size": 10,
             "solidity": 0.2
            },
            "type": "scatter"
           }
          ],
          "scatter3d": [
           {
            "line": {
             "colorbar": {
              "outlinewidth": 0,
              "ticks": ""
             }
            },
            "marker": {
             "colorbar": {
              "outlinewidth": 0,
              "ticks": ""
             }
            },
            "type": "scatter3d"
           }
          ],
          "scattercarpet": [
           {
            "marker": {
             "colorbar": {
              "outlinewidth": 0,
              "ticks": ""
             }
            },
            "type": "scattercarpet"
           }
          ],
          "scattergeo": [
           {
            "marker": {
             "colorbar": {
              "outlinewidth": 0,
              "ticks": ""
             }
            },
            "type": "scattergeo"
           }
          ],
          "scattergl": [
           {
            "marker": {
             "colorbar": {
              "outlinewidth": 0,
              "ticks": ""
             }
            },
            "type": "scattergl"
           }
          ],
          "scattermapbox": [
           {
            "marker": {
             "colorbar": {
              "outlinewidth": 0,
              "ticks": ""
             }
            },
            "type": "scattermapbox"
           }
          ],
          "scatterpolar": [
           {
            "marker": {
             "colorbar": {
              "outlinewidth": 0,
              "ticks": ""
             }
            },
            "type": "scatterpolar"
           }
          ],
          "scatterpolargl": [
           {
            "marker": {
             "colorbar": {
              "outlinewidth": 0,
              "ticks": ""
             }
            },
            "type": "scatterpolargl"
           }
          ],
          "scatterternary": [
           {
            "marker": {
             "colorbar": {
              "outlinewidth": 0,
              "ticks": ""
             }
            },
            "type": "scatterternary"
           }
          ],
          "surface": [
           {
            "colorbar": {
             "outlinewidth": 0,
             "ticks": ""
            },
            "colorscale": [
             [
              0,
              "#0d0887"
             ],
             [
              0.1111111111111111,
              "#46039f"
             ],
             [
              0.2222222222222222,
              "#7201a8"
             ],
             [
              0.3333333333333333,
              "#9c179e"
             ],
             [
              0.4444444444444444,
              "#bd3786"
             ],
             [
              0.5555555555555556,
              "#d8576b"
             ],
             [
              0.6666666666666666,
              "#ed7953"
             ],
             [
              0.7777777777777778,
              "#fb9f3a"
             ],
             [
              0.8888888888888888,
              "#fdca26"
             ],
             [
              1,
              "#f0f921"
             ]
            ],
            "type": "surface"
           }
          ],
          "table": [
           {
            "cells": {
             "fill": {
              "color": "#EBF0F8"
             },
             "line": {
              "color": "white"
             }
            },
            "header": {
             "fill": {
              "color": "#C8D4E3"
             },
             "line": {
              "color": "white"
             }
            },
            "type": "table"
           }
          ]
         },
         "layout": {
          "annotationdefaults": {
           "arrowcolor": "#2a3f5f",
           "arrowhead": 0,
           "arrowwidth": 1
          },
          "autotypenumbers": "strict",
          "coloraxis": {
           "colorbar": {
            "outlinewidth": 0,
            "ticks": ""
           }
          },
          "colorscale": {
           "diverging": [
            [
             0,
             "#8e0152"
            ],
            [
             0.1,
             "#c51b7d"
            ],
            [
             0.2,
             "#de77ae"
            ],
            [
             0.3,
             "#f1b6da"
            ],
            [
             0.4,
             "#fde0ef"
            ],
            [
             0.5,
             "#f7f7f7"
            ],
            [
             0.6,
             "#e6f5d0"
            ],
            [
             0.7,
             "#b8e186"
            ],
            [
             0.8,
             "#7fbc41"
            ],
            [
             0.9,
             "#4d9221"
            ],
            [
             1,
             "#276419"
            ]
           ],
           "sequential": [
            [
             0,
             "#0d0887"
            ],
            [
             0.1111111111111111,
             "#46039f"
            ],
            [
             0.2222222222222222,
             "#7201a8"
            ],
            [
             0.3333333333333333,
             "#9c179e"
            ],
            [
             0.4444444444444444,
             "#bd3786"
            ],
            [
             0.5555555555555556,
             "#d8576b"
            ],
            [
             0.6666666666666666,
             "#ed7953"
            ],
            [
             0.7777777777777778,
             "#fb9f3a"
            ],
            [
             0.8888888888888888,
             "#fdca26"
            ],
            [
             1,
             "#f0f921"
            ]
           ],
           "sequentialminus": [
            [
             0,
             "#0d0887"
            ],
            [
             0.1111111111111111,
             "#46039f"
            ],
            [
             0.2222222222222222,
             "#7201a8"
            ],
            [
             0.3333333333333333,
             "#9c179e"
            ],
            [
             0.4444444444444444,
             "#bd3786"
            ],
            [
             0.5555555555555556,
             "#d8576b"
            ],
            [
             0.6666666666666666,
             "#ed7953"
            ],
            [
             0.7777777777777778,
             "#fb9f3a"
            ],
            [
             0.8888888888888888,
             "#fdca26"
            ],
            [
             1,
             "#f0f921"
            ]
           ]
          },
          "colorway": [
           "#636efa",
           "#EF553B",
           "#00cc96",
           "#ab63fa",
           "#FFA15A",
           "#19d3f3",
           "#FF6692",
           "#B6E880",
           "#FF97FF",
           "#FECB52"
          ],
          "font": {
           "color": "#2a3f5f"
          },
          "geo": {
           "bgcolor": "white",
           "lakecolor": "white",
           "landcolor": "#E5ECF6",
           "showlakes": true,
           "showland": true,
           "subunitcolor": "white"
          },
          "hoverlabel": {
           "align": "left"
          },
          "hovermode": "closest",
          "mapbox": {
           "style": "light"
          },
          "paper_bgcolor": "white",
          "plot_bgcolor": "#E5ECF6",
          "polar": {
           "angularaxis": {
            "gridcolor": "white",
            "linecolor": "white",
            "ticks": ""
           },
           "bgcolor": "#E5ECF6",
           "radialaxis": {
            "gridcolor": "white",
            "linecolor": "white",
            "ticks": ""
           }
          },
          "scene": {
           "xaxis": {
            "backgroundcolor": "#E5ECF6",
            "gridcolor": "white",
            "gridwidth": 2,
            "linecolor": "white",
            "showbackground": true,
            "ticks": "",
            "zerolinecolor": "white"
           },
           "yaxis": {
            "backgroundcolor": "#E5ECF6",
            "gridcolor": "white",
            "gridwidth": 2,
            "linecolor": "white",
            "showbackground": true,
            "ticks": "",
            "zerolinecolor": "white"
           },
           "zaxis": {
            "backgroundcolor": "#E5ECF6",
            "gridcolor": "white",
            "gridwidth": 2,
            "linecolor": "white",
            "showbackground": true,
            "ticks": "",
            "zerolinecolor": "white"
           }
          },
          "shapedefaults": {
           "line": {
            "color": "#2a3f5f"
           }
          },
          "ternary": {
           "aaxis": {
            "gridcolor": "white",
            "linecolor": "white",
            "ticks": ""
           },
           "baxis": {
            "gridcolor": "white",
            "linecolor": "white",
            "ticks": ""
           },
           "bgcolor": "#E5ECF6",
           "caxis": {
            "gridcolor": "white",
            "linecolor": "white",
            "ticks": ""
           }
          },
          "title": {
           "x": 0.05
          },
          "xaxis": {
           "automargin": true,
           "gridcolor": "white",
           "linecolor": "white",
           "ticks": "",
           "title": {
            "standoff": 15
           },
           "zerolinecolor": "white",
           "zerolinewidth": 2
          },
          "yaxis": {
           "automargin": true,
           "gridcolor": "white",
           "linecolor": "white",
           "ticks": "",
           "title": {
            "standoff": 15
           },
           "zerolinecolor": "white",
           "zerolinewidth": 2
          }
         }
        },
        "title": {
         "text": "Time to Compute Average"
        },
        "xaxis": {
         "anchor": "y",
         "domain": [
          0,
          1
         ],
         "title": {
          "text": "value"
         }
        },
        "yaxis": {
         "anchor": "x",
         "domain": [
          0,
          1
         ],
         "title": {
          "text": "count"
         }
        }
       }
      },
      "text/html": [
       "<div>                            <div id=\"3eceb06a-8595-4202-9973-dca78aa3532a\" class=\"plotly-graph-div\" style=\"height:525px; width:100%;\"></div>            <script type=\"text/javascript\">                require([\"plotly\"], function(Plotly) {                    window.PLOTLYENV=window.PLOTLYENV || {};                                    if (document.getElementById(\"3eceb06a-8595-4202-9973-dca78aa3532a\")) {                    Plotly.newPlot(                        \"3eceb06a-8595-4202-9973-dca78aa3532a\",                        [{\"alignmentgroup\":\"True\",\"bingroup\":\"x\",\"hovertemplate\":\"variable=0<br>value=%{x}<br>count=%{y}<extra></extra>\",\"legendgroup\":\"0\",\"marker\":{\"color\":\"#636efa\",\"pattern\":{\"shape\":\"\"}},\"name\":\"0\",\"offsetgroup\":\"0\",\"orientation\":\"v\",\"showlegend\":true,\"x\":[0.020610570907592773,0.0055887699127197266,0.006630897521972656,0.0061762332916259766,0.009752035140991211,0.006991386413574219,0.0077054500579833984,0.010462760925292969,0.009473323822021484,0.006237506866455078,0.006644725799560547,0.007744312286376953,0.0070421695709228516,0.006726980209350586,0.005130290985107422,0.007988929748535156,0.006406068801879883,0.006016969680786133,0.0076982975006103516,0.006056070327758789,0.008253812789916992,0.008677959442138672,0.008922815322875977,0.008896827697753906,0.006138324737548828,0.007608175277709961,0.008479833602905273,0.005842685699462891,0.00991964340209961,0.006503582000732422,0.0076885223388671875,0.007664680480957031,0.0065479278564453125,0.01232147216796875,0.008345365524291992,0.00838470458984375,0.008672952651977539,0.006251335144042969,0.0074465274810791016,0.008690595626831055,0.006338357925415039,0.006888389587402344,0.00712275505065918,0.006990671157836914,0.0059528350830078125,0.007180690765380859,0.006345987319946289,0.007656574249267578,0.007824420928955078,0.006051778793334961,0.00741887092590332,0.0053272247314453125,0.004646778106689453,0.005616188049316406,0.005601406097412109,0.006613969802856445,0.006068229675292969,0.004254341125488281,0.005765199661254883,0.006083011627197266,0.007885456085205078,0.00820612907409668,0.0066454410552978516,0.005206108093261719,0.0035500526428222656,0.007947444915771484,0.008256196975708008,0.006583690643310547,0.0073206424713134766,0.005881547927856445,0.007957935333251953,0.007638454437255859,0.007827281951904297,0.006522178649902344,0.00722956657409668,0.007708072662353516,0.013089895248413086,0.0075418949127197266,0.009991168975830078,0.008310079574584961,0.008746147155761719,0.0064699649810791016,0.008399248123168945,0.0076677799224853516,0.010557413101196289,0.010172605514526367,0.006998300552368164,0.006674528121948242,0.006293535232543945,0.007399082183837891,0.008780956268310547,0.006603240966796875,0.004132270812988281,0.007749319076538086,0.007087230682373047,0.005983591079711914,0.007482290267944336,0.00859975814819336,0.005193471908569336,0.005067110061645508,0.0061495304107666016,0.004143238067626953,0.006113767623901367,0.006609201431274414,0.0069811344146728516,0.007908821105957031,0.006691932678222656,0.007300853729248047,0.00840616226196289,0.004752635955810547,0.00432586669921875,0.006417036056518555,0.006658315658569336,0.005879402160644531,0.006326198577880859,0.0060577392578125,0.006428718566894531,0.0077970027923583984,0.00612187385559082,0.005280256271362305,0.004280567169189453,0.006884098052978516,0.005861997604370117,0.0060803890228271484,0.006340742111206055,0.005944490432739258,0.006345987319946289,0.0069048404693603516,0.009964227676391602,0.006670713424682617,0.008712291717529297,0.006516456604003906,0.010675430297851562,0.008450031280517578,0.006837129592895508,0.007213592529296875,0.0069427490234375,0.008649587631225586,0.006478309631347656,0.008497476577758789,0.006223917007446289,0.0057604312896728516,0.00630497932434082,0.007364988327026367,0.006711006164550781,0.0071392059326171875,0.007658481597900391,0.008046627044677734,0.009088277816772461,0.006612539291381836,0.009345293045043945,0.008296489715576172,0.007197856903076172,0.007619142532348633,0.006786823272705078,0.007027387619018555,0.007325887680053711,0.007005929946899414,0.0047321319580078125,0.006640911102294922,0.004245281219482422,0.009473085403442383,0.008300304412841797,0.006539583206176758,0.006881237030029297,0.007140636444091797,0.007785797119140625,0.006643056869506836,0.006639242172241211,0.007458209991455078,0.006515979766845703,0.007117271423339844,0.009057998657226562,0.008689403533935547,0.007509469985961914,0.006583690643310547,0.009310007095336914,0.006226062774658203,0.009783029556274414,0.007036685943603516,0.012798309326171875,0.00957179069519043,0.006832122802734375,0.008661746978759766,0.006746530532836914,0.005307435989379883,0.006689310073852539,0.006971836090087891,0.005682468414306641,0.005187273025512695,0.005359172821044922,0.006380558013916016,0.012690067291259766,0.008968353271484375,0.0067174434661865234,0.00629425048828125,0.00735163688659668,0.008946895599365234,0.007654905319213867,0.0073468685150146484,0.0068700313568115234,0.008269786834716797,0.008520841598510742,0.00921630859375,0.008548974990844727,0.008414030075073242,0.00713038444519043,0.010519742965698242,0.009102106094360352,0.008137941360473633,0.0071527957916259766,0.006956338882446289,0.007761955261230469,0.008451223373413086,0.008287191390991211,0.009071111679077148,0.006745576858520508,0.006289482116699219,0.006883144378662109,0.007585763931274414,0.003826141357421875,0.005647897720336914,0.0070171356201171875,0.0053293704986572266,0.007128477096557617,0.006765604019165039,0.007822036743164062,0.006396770477294922,0.006748199462890625,0.007497310638427734,0.00558781623840332,0.0074040889739990234,0.007616519927978516,0.006060123443603516,0.00748443603515625,0.008662939071655273,0.008127689361572266,0.00673985481262207,0.0074138641357421875,0.005655527114868164,0.005329608917236328,0.004216670989990234,0.00824427604675293,0.007098197937011719,0.007779359817504883,0.007851123809814453,0.007211446762084961,0.007960081100463867,0.007659912109375,0.0057218074798583984,0.005917072296142578,0.00458836555480957,0.00561213493347168,0.005078554153442383,0.006940364837646484,0.00774693489074707,0.006815671920776367,0.006434202194213867,0.00526118278503418,0.006575345993041992,0.006251335144042969,0.006736278533935547,0.005944013595581055,0.005999088287353516,0.006795406341552734,0.007069587707519531,0.007779598236083984,0.007475376129150391,0.0069234371185302734,0.00548100471496582,0.007868051528930664,0.0061490535736083984,0.006941795349121094,0.008186578750610352,0.007145881652832031,0.00972437858581543,0.0073604583740234375,0.010437488555908203,0.008966684341430664,0.0072596073150634766,0.004950046539306641,0.00736689567565918,0.006842613220214844,0.008599042892456055,0.006514072418212891,0.006327390670776367,0.006193637847900391,0.009011030197143555,0.006630897521972656,0.007417917251586914,0.0068705081939697266,0.008289575576782227,0.006214618682861328,0.00836634635925293,0.006017446517944336,0.00576472282409668,0.006134748458862305,0.006893634796142578,0.007428884506225586,0.0060901641845703125,0.00716853141784668,0.006666660308837891,0.0063114166259765625,0.006628990173339844,0.006719350814819336,0.006100177764892578,0.007733821868896484,0.006943702697753906,0.0072078704833984375,0.007121086120605469,0.006923198699951172,0.007097482681274414,0.00750422477722168,0.005024433135986328,0.005950450897216797,0.008396625518798828,0.005448102951049805,0.007506370544433594,0.006166696548461914,0.005240201950073242,0.018556594848632812,0.021421432495117188,0.024903297424316406,0.027563095092773438,0.025036096572875977,0.03591203689575195,0.031029939651489258,0.03450632095336914,0.02825450897216797,0.0238037109375,0.02118539810180664,0.020317792892456055,0.018843889236450195,0.0055310726165771484,0.005619049072265625,0.003995418548583984,0.0054895877838134766,0.006872892379760742,0.006198406219482422,0.006014108657836914,0.004399299621582031,0.004630327224731445,0.005782127380371094,0.005969524383544922,0.005820035934448242,0.004731655120849609,0.005431175231933594,0.006247997283935547,0.005373954772949219,0.004857540130615234,0.004047393798828125,0.003554821014404297,0.006371736526489258,0.007818937301635742,0.0074007511138916016,0.006942033767700195,0.005901813507080078,0.007212400436401367,0.007078886032104492,0.007914304733276367,0.0061190128326416016,0.008345365524291992,0.006704568862915039,0.0067119598388671875,0.005847454071044922,0.005913257598876953,0.006352663040161133,0.006844043731689453,0.0057430267333984375,0.0038039684295654297,0.00522160530090332,0.005680561065673828,0.005163669586181641,0.005411624908447266,0.0050809383392333984,0.005338907241821289,0.005776166915893555,0.006832122802734375,0.00478672981262207,0.006894826889038086,0.010748624801635742,0.007565736770629883,0.00572967529296875,0.003435850143432617,0.03360915184020996,0.0248105525970459,0.025351524353027344,0.031796932220458984,0.03514719009399414,0.03180575370788574,0.03032374382019043,0.025825977325439453,0.020405054092407227,0.022768497467041016,0.019780874252319336,0.022913217544555664,0.024257421493530273,0.02680516242980957,0.022809982299804688,0.027942895889282227,0.024489402770996094,0.027312278747558594,0.02854633331298828,0.025899410247802734,0.017066001892089844,0.019895315170288086,0.015266180038452148,0.012988567352294922,0.013047933578491211,0.014678001403808594,0.021770238876342773,0.020717144012451172,0.011345624923706055,0.01154184341430664,0.009260416030883789,0.008033037185668945,0.007492542266845703,0.0062541961669921875,0.00864410400390625,0.008740663528442383,0.006623744964599609,0.006356477737426758,0.007521390914916992,0.005263805389404297,0.0068280696868896484,0.009095191955566406,0.00740361213684082,0.008661985397338867,0.00649261474609375,0.005845069885253906,0.005258798599243164,0.006292581558227539,0.006128072738647461,0.005478858947753906,0.00692439079284668,0.004669189453125,0.006764650344848633,0.005860805511474609,0.005196571350097656,0.0059931278228759766,0.004724264144897461,0.006131172180175781,0.006304264068603516,0.006117820739746094,0.008723258972167969,0.005815267562866211,0.005179882049560547,0.004630565643310547,0.02266407012939453,0.0225372314453125,0.028352737426757812,0.0256500244140625,0.02231884002685547,0.022048234939575195,0.020467519760131836,0.01748204231262207,0.019363880157470703,0.02238178253173828,0.023277997970581055,0.025743961334228516,0.032056570053100586,0.026599884033203125,0.029956817626953125,0.028063535690307617,0.01779484748840332,0.0216672420501709,0.021576404571533203,0.02189922332763672,0.02280712127685547,0.017479419708251953,0.023462772369384766,0.03036808967590332,0.025233030319213867,0.02281641960144043,0.020336627960205078,0.013341903686523438,0.01866459846496582,0.012512683868408203,0.009200096130371094,0.007912397384643555,0.006440877914428711,0.008437156677246094,0.00871133804321289,0.006108283996582031,0.005493640899658203,0.006850481033325195,0.006991863250732422,0.009281158447265625,0.008497238159179688,0.007481098175048828,0.007681846618652344,0.005423784255981445,0.005610466003417969,0.006437063217163086,0.006057262420654297,0.0077474117279052734,0.008475780487060547,0.006769895553588867,0.009321928024291992,0.00784158706665039,0.007554292678833008,0.008886337280273438,0.006445884704589844,0.007481813430786133,0.006970405578613281,0.008033990859985352,0.007753610610961914,0.00889897346496582,0.0054438114166259766,0.007536888122558594,0.007564067840576172,0.008689641952514648,0.005476951599121094,0.007695198059082031,0.007401466369628906,0.007375240325927734,0.0059206485748291016,0.003851652145385742,0.008247852325439453,0.00461888313293457,0.006711006164550781,0.005928993225097656,0.006945371627807617,0.00760197639465332,0.006129741668701172,0.006871223449707031,0.0063397884368896484,0.00492095947265625,0.005514860153198242,0.00553584098815918,0.005009174346923828,0.004917144775390625,0.005798816680908203,0.00573420524597168,0.005280256271362305,0.00589299201965332,0.006487369537353516,0.006742954254150391,0.006341457366943359,0.0074710845947265625,0.004733085632324219,0.00593876838684082,0.007924795150756836,0.007178544998168945,0.026931047439575195,0.0055239200592041016,0.00706791877746582,0.0067291259765625,0.005949497222900391,0.006434440612792969,0.006510496139526367,0.007922649383544922,0.006370067596435547,0.007581949234008789,0.008878469467163086,0.005720853805541992,0.007971525192260742,0.006370067596435547,0.0064656734466552734,0.007425546646118164,0.008896589279174805,0.01034688949584961,0.008387565612792969,0.009522199630737305,0.013182401657104492,0.00959920883178711,0.007929086685180664,0.007567405700683594,0.007831573486328125,0.006488323211669922,0.006886720657348633,0.00663304328918457,0.005800962448120117,0.005357980728149414,0.004568815231323242,0.005864143371582031,0.028507709503173828,0.008549213409423828,0.0065038204193115234,0.007563591003417969,0.0065364837646484375,0.007637739181518555,0.005974531173706055,0.008890390396118164,0.007773160934448242,0.008458375930786133,0.0068171024322509766,0.006198406219482422,0.006537914276123047,0.006314277648925781,0.0071849822998046875,0.010300159454345703,0.0068776607513427734,0.00808405876159668,0.007294416427612305,0.008315086364746094,0.00963449478149414,0.008384466171264648,0.0064601898193359375,0.010168790817260742,0.0066547393798828125,0.008527278900146484,0.008402347564697266,0.006094932556152344,0.007006645202636719,0.005411386489868164,0.007653474807739258,0.007330417633056641,0.004198789596557617,0.01242971420288086,0.007002353668212891,0.0061457157135009766,0.006510019302368164,0.007867097854614258,0.0064105987548828125,0.007164955139160156,0.0072021484375,0.0069200992584228516,0.007611989974975586,0.005989551544189453,0.00561213493347168,0.009328365325927734,0.00878143310546875,0.006520986557006836,0.006056785583496094,0.007353544235229492,0.008736371994018555,0.0058405399322509766,0.0077512264251708984,0.005928993225097656,0.006299257278442383,0.008640766143798828,0.0076656341552734375,0.008595705032348633,0.006057262420654297,0.006749868392944336,0.007615566253662109,0.008095979690551758,0.007620573043823242,0.0051746368408203125,0.026086807250976562,0.008177042007446289,0.007616758346557617,0.007520914077758789,0.008170366287231445,0.007467508316040039,0.008816957473754883,0.0061550140380859375,0.006135702133178711,0.00788569450378418,0.004912614822387695,0.006143331527709961,0.00785374641418457,0.0077707767486572266,0.007616519927978516,0.00713658332824707,0.009532451629638672,0.006512880325317383,0.007584810256958008,0.01080322265625,0.008404731750488281,0.007391691207885742,0.008355855941772461,0.008411407470703125,0.008049488067626953,0.009196758270263672,0.004266262054443359,0.0032575130462646484,0.0034520626068115234,0.005161285400390625,0.002926349639892578,0.0027081966400146484,0.006613254547119141,0.0028874874114990234,0.00877070426940918,0.0018444061279296875,0.002470254898071289,0.00432133674621582,0.0032019615173339844,0.0025687217712402344,0.003408670425415039,0.002360820770263672,0.002026081085205078,0.003647327423095703,0.002365589141845703,0.0035505294799804688,0.003908872604370117,0.005112409591674805,0.004914522171020508,0.003302335739135742,0.004482269287109375,0.0029740333557128906,0.002166271209716797,0.0023796558380126953,0.002515077590942383,0.0031096935272216797,0.0026438236236572266,0.0034568309783935547,0.015824317932128906,0.01781177520751953,0.016594886779785156,0.019491195678710938,0.01794147491455078],\"xaxis\":\"x\",\"yaxis\":\"y\",\"type\":\"histogram\"}],                        {\"template\":{\"data\":{\"histogram2dcontour\":[{\"type\":\"histogram2dcontour\",\"colorbar\":{\"outlinewidth\":0,\"ticks\":\"\"},\"colorscale\":[[0.0,\"#0d0887\"],[0.1111111111111111,\"#46039f\"],[0.2222222222222222,\"#7201a8\"],[0.3333333333333333,\"#9c179e\"],[0.4444444444444444,\"#bd3786\"],[0.5555555555555556,\"#d8576b\"],[0.6666666666666666,\"#ed7953\"],[0.7777777777777778,\"#fb9f3a\"],[0.8888888888888888,\"#fdca26\"],[1.0,\"#f0f921\"]]}],\"choropleth\":[{\"type\":\"choropleth\",\"colorbar\":{\"outlinewidth\":0,\"ticks\":\"\"}}],\"histogram2d\":[{\"type\":\"histogram2d\",\"colorbar\":{\"outlinewidth\":0,\"ticks\":\"\"},\"colorscale\":[[0.0,\"#0d0887\"],[0.1111111111111111,\"#46039f\"],[0.2222222222222222,\"#7201a8\"],[0.3333333333333333,\"#9c179e\"],[0.4444444444444444,\"#bd3786\"],[0.5555555555555556,\"#d8576b\"],[0.6666666666666666,\"#ed7953\"],[0.7777777777777778,\"#fb9f3a\"],[0.8888888888888888,\"#fdca26\"],[1.0,\"#f0f921\"]]}],\"heatmap\":[{\"type\":\"heatmap\",\"colorbar\":{\"outlinewidth\":0,\"ticks\":\"\"},\"colorscale\":[[0.0,\"#0d0887\"],[0.1111111111111111,\"#46039f\"],[0.2222222222222222,\"#7201a8\"],[0.3333333333333333,\"#9c179e\"],[0.4444444444444444,\"#bd3786\"],[0.5555555555555556,\"#d8576b\"],[0.6666666666666666,\"#ed7953\"],[0.7777777777777778,\"#fb9f3a\"],[0.8888888888888888,\"#fdca26\"],[1.0,\"#f0f921\"]]}],\"heatmapgl\":[{\"type\":\"heatmapgl\",\"colorbar\":{\"outlinewidth\":0,\"ticks\":\"\"},\"colorscale\":[[0.0,\"#0d0887\"],[0.1111111111111111,\"#46039f\"],[0.2222222222222222,\"#7201a8\"],[0.3333333333333333,\"#9c179e\"],[0.4444444444444444,\"#bd3786\"],[0.5555555555555556,\"#d8576b\"],[0.6666666666666666,\"#ed7953\"],[0.7777777777777778,\"#fb9f3a\"],[0.8888888888888888,\"#fdca26\"],[1.0,\"#f0f921\"]]}],\"contourcarpet\":[{\"type\":\"contourcarpet\",\"colorbar\":{\"outlinewidth\":0,\"ticks\":\"\"}}],\"contour\":[{\"type\":\"contour\",\"colorbar\":{\"outlinewidth\":0,\"ticks\":\"\"},\"colorscale\":[[0.0,\"#0d0887\"],[0.1111111111111111,\"#46039f\"],[0.2222222222222222,\"#7201a8\"],[0.3333333333333333,\"#9c179e\"],[0.4444444444444444,\"#bd3786\"],[0.5555555555555556,\"#d8576b\"],[0.6666666666666666,\"#ed7953\"],[0.7777777777777778,\"#fb9f3a\"],[0.8888888888888888,\"#fdca26\"],[1.0,\"#f0f921\"]]}],\"surface\":[{\"type\":\"surface\",\"colorbar\":{\"outlinewidth\":0,\"ticks\":\"\"},\"colorscale\":[[0.0,\"#0d0887\"],[0.1111111111111111,\"#46039f\"],[0.2222222222222222,\"#7201a8\"],[0.3333333333333333,\"#9c179e\"],[0.4444444444444444,\"#bd3786\"],[0.5555555555555556,\"#d8576b\"],[0.6666666666666666,\"#ed7953\"],[0.7777777777777778,\"#fb9f3a\"],[0.8888888888888888,\"#fdca26\"],[1.0,\"#f0f921\"]]}],\"mesh3d\":[{\"type\":\"mesh3d\",\"colorbar\":{\"outlinewidth\":0,\"ticks\":\"\"}}],\"scatter\":[{\"fillpattern\":{\"fillmode\":\"overlay\",\"size\":10,\"solidity\":0.2},\"type\":\"scatter\"}],\"parcoords\":[{\"type\":\"parcoords\",\"line\":{\"colorbar\":{\"outlinewidth\":0,\"ticks\":\"\"}}}],\"scatterpolargl\":[{\"type\":\"scatterpolargl\",\"marker\":{\"colorbar\":{\"outlinewidth\":0,\"ticks\":\"\"}}}],\"bar\":[{\"error_x\":{\"color\":\"#2a3f5f\"},\"error_y\":{\"color\":\"#2a3f5f\"},\"marker\":{\"line\":{\"color\":\"#E5ECF6\",\"width\":0.5},\"pattern\":{\"fillmode\":\"overlay\",\"size\":10,\"solidity\":0.2}},\"type\":\"bar\"}],\"scattergeo\":[{\"type\":\"scattergeo\",\"marker\":{\"colorbar\":{\"outlinewidth\":0,\"ticks\":\"\"}}}],\"scatterpolar\":[{\"type\":\"scatterpolar\",\"marker\":{\"colorbar\":{\"outlinewidth\":0,\"ticks\":\"\"}}}],\"histogram\":[{\"marker\":{\"pattern\":{\"fillmode\":\"overlay\",\"size\":10,\"solidity\":0.2}},\"type\":\"histogram\"}],\"scattergl\":[{\"type\":\"scattergl\",\"marker\":{\"colorbar\":{\"outlinewidth\":0,\"ticks\":\"\"}}}],\"scatter3d\":[{\"type\":\"scatter3d\",\"line\":{\"colorbar\":{\"outlinewidth\":0,\"ticks\":\"\"}},\"marker\":{\"colorbar\":{\"outlinewidth\":0,\"ticks\":\"\"}}}],\"scattermapbox\":[{\"type\":\"scattermapbox\",\"marker\":{\"colorbar\":{\"outlinewidth\":0,\"ticks\":\"\"}}}],\"scatterternary\":[{\"type\":\"scatterternary\",\"marker\":{\"colorbar\":{\"outlinewidth\":0,\"ticks\":\"\"}}}],\"scattercarpet\":[{\"type\":\"scattercarpet\",\"marker\":{\"colorbar\":{\"outlinewidth\":0,\"ticks\":\"\"}}}],\"carpet\":[{\"aaxis\":{\"endlinecolor\":\"#2a3f5f\",\"gridcolor\":\"white\",\"linecolor\":\"white\",\"minorgridcolor\":\"white\",\"startlinecolor\":\"#2a3f5f\"},\"baxis\":{\"endlinecolor\":\"#2a3f5f\",\"gridcolor\":\"white\",\"linecolor\":\"white\",\"minorgridcolor\":\"white\",\"startlinecolor\":\"#2a3f5f\"},\"type\":\"carpet\"}],\"table\":[{\"cells\":{\"fill\":{\"color\":\"#EBF0F8\"},\"line\":{\"color\":\"white\"}},\"header\":{\"fill\":{\"color\":\"#C8D4E3\"},\"line\":{\"color\":\"white\"}},\"type\":\"table\"}],\"barpolar\":[{\"marker\":{\"line\":{\"color\":\"#E5ECF6\",\"width\":0.5},\"pattern\":{\"fillmode\":\"overlay\",\"size\":10,\"solidity\":0.2}},\"type\":\"barpolar\"}],\"pie\":[{\"automargin\":true,\"type\":\"pie\"}]},\"layout\":{\"autotypenumbers\":\"strict\",\"colorway\":[\"#636efa\",\"#EF553B\",\"#00cc96\",\"#ab63fa\",\"#FFA15A\",\"#19d3f3\",\"#FF6692\",\"#B6E880\",\"#FF97FF\",\"#FECB52\"],\"font\":{\"color\":\"#2a3f5f\"},\"hovermode\":\"closest\",\"hoverlabel\":{\"align\":\"left\"},\"paper_bgcolor\":\"white\",\"plot_bgcolor\":\"#E5ECF6\",\"polar\":{\"bgcolor\":\"#E5ECF6\",\"angularaxis\":{\"gridcolor\":\"white\",\"linecolor\":\"white\",\"ticks\":\"\"},\"radialaxis\":{\"gridcolor\":\"white\",\"linecolor\":\"white\",\"ticks\":\"\"}},\"ternary\":{\"bgcolor\":\"#E5ECF6\",\"aaxis\":{\"gridcolor\":\"white\",\"linecolor\":\"white\",\"ticks\":\"\"},\"baxis\":{\"gridcolor\":\"white\",\"linecolor\":\"white\",\"ticks\":\"\"},\"caxis\":{\"gridcolor\":\"white\",\"linecolor\":\"white\",\"ticks\":\"\"}},\"coloraxis\":{\"colorbar\":{\"outlinewidth\":0,\"ticks\":\"\"}},\"colorscale\":{\"sequential\":[[0.0,\"#0d0887\"],[0.1111111111111111,\"#46039f\"],[0.2222222222222222,\"#7201a8\"],[0.3333333333333333,\"#9c179e\"],[0.4444444444444444,\"#bd3786\"],[0.5555555555555556,\"#d8576b\"],[0.6666666666666666,\"#ed7953\"],[0.7777777777777778,\"#fb9f3a\"],[0.8888888888888888,\"#fdca26\"],[1.0,\"#f0f921\"]],\"sequentialminus\":[[0.0,\"#0d0887\"],[0.1111111111111111,\"#46039f\"],[0.2222222222222222,\"#7201a8\"],[0.3333333333333333,\"#9c179e\"],[0.4444444444444444,\"#bd3786\"],[0.5555555555555556,\"#d8576b\"],[0.6666666666666666,\"#ed7953\"],[0.7777777777777778,\"#fb9f3a\"],[0.8888888888888888,\"#fdca26\"],[1.0,\"#f0f921\"]],\"diverging\":[[0,\"#8e0152\"],[0.1,\"#c51b7d\"],[0.2,\"#de77ae\"],[0.3,\"#f1b6da\"],[0.4,\"#fde0ef\"],[0.5,\"#f7f7f7\"],[0.6,\"#e6f5d0\"],[0.7,\"#b8e186\"],[0.8,\"#7fbc41\"],[0.9,\"#4d9221\"],[1,\"#276419\"]]},\"xaxis\":{\"gridcolor\":\"white\",\"linecolor\":\"white\",\"ticks\":\"\",\"title\":{\"standoff\":15},\"zerolinecolor\":\"white\",\"automargin\":true,\"zerolinewidth\":2},\"yaxis\":{\"gridcolor\":\"white\",\"linecolor\":\"white\",\"ticks\":\"\",\"title\":{\"standoff\":15},\"zerolinecolor\":\"white\",\"automargin\":true,\"zerolinewidth\":2},\"scene\":{\"xaxis\":{\"backgroundcolor\":\"#E5ECF6\",\"gridcolor\":\"white\",\"linecolor\":\"white\",\"showbackground\":true,\"ticks\":\"\",\"zerolinecolor\":\"white\",\"gridwidth\":2},\"yaxis\":{\"backgroundcolor\":\"#E5ECF6\",\"gridcolor\":\"white\",\"linecolor\":\"white\",\"showbackground\":true,\"ticks\":\"\",\"zerolinecolor\":\"white\",\"gridwidth\":2},\"zaxis\":{\"backgroundcolor\":\"#E5ECF6\",\"gridcolor\":\"white\",\"linecolor\":\"white\",\"showbackground\":true,\"ticks\":\"\",\"zerolinecolor\":\"white\",\"gridwidth\":2}},\"shapedefaults\":{\"line\":{\"color\":\"#2a3f5f\"}},\"annotationdefaults\":{\"arrowcolor\":\"#2a3f5f\",\"arrowhead\":0,\"arrowwidth\":1},\"geo\":{\"bgcolor\":\"white\",\"landcolor\":\"#E5ECF6\",\"subunitcolor\":\"white\",\"showland\":true,\"showlakes\":true,\"lakecolor\":\"white\"},\"title\":{\"x\":0.05},\"mapbox\":{\"style\":\"light\"}}},\"xaxis\":{\"anchor\":\"y\",\"domain\":[0.0,1.0],\"title\":{\"text\":\"value\"}},\"yaxis\":{\"anchor\":\"x\",\"domain\":[0.0,1.0],\"title\":{\"text\":\"count\"}},\"legend\":{\"title\":{\"text\":\"variable\"},\"tracegroupgap\":0},\"title\":{\"text\":\"Time to Compute Average\"},\"barmode\":\"relative\"},                        {\"responsive\": true}                    ).then(function(){\n",
       "                            \n",
       "var gd = document.getElementById('3eceb06a-8595-4202-9973-dca78aa3532a');\n",
       "var x = new MutationObserver(function (mutations, observer) {{\n",
       "        var display = window.getComputedStyle(gd).display;\n",
       "        if (!display || display === 'none') {{\n",
       "            console.log([gd, 'removed!']);\n",
       "            Plotly.purge(gd);\n",
       "            observer.disconnect();\n",
       "        }}\n",
       "}});\n",
       "\n",
       "// Listen for the removal of the full notebook cells\n",
       "var notebookContainer = gd.closest('#notebook-container');\n",
       "if (notebookContainer) {{\n",
       "    x.observe(notebookContainer, {childList: true});\n",
       "}}\n",
       "\n",
       "// Listen for the clearing of the current output cell\n",
       "var outputEl = gd.closest('.output');\n",
       "if (outputEl) {{\n",
       "    x.observe(outputEl, {childList: true});\n",
       "}}\n",
       "\n",
       "                        })                };                });            </script>        </div>"
      ]
     },
     "metadata": {},
     "output_type": "display_data"
    }
   ],
   "source": [
    "px.histogram(genAvgColor,title=\"Time to Compute Average\")"
   ]
  },
  {
   "cell_type": "code",
   "execution_count": 20,
   "id": "b23ca5fb",
   "metadata": {},
   "outputs": [
    {
     "data": {
      "application/vnd.plotly.v1+json": {
       "config": {
        "plotlyServerURL": "https://plot.ly"
       },
       "data": [
        {
         "alignmentgroup": "True",
         "bingroup": "x",
         "hovertemplate": "variable=0<br>value=%{x}<br>count=%{y}<extra></extra>",
         "legendgroup": "0",
         "marker": {
          "color": "#636efa",
          "pattern": {
           "shape": ""
          }
         },
         "name": "0",
         "offsetgroup": "0",
         "orientation": "v",
         "showlegend": true,
         "type": "histogram",
         "x": [
          0.06633758544921875,
          0.04975581169128418,
          0.04631805419921875,
          0.048093557357788086,
          0.05420660972595215,
          0.049715518951416016,
          0.04949831962585449,
          0.04908490180969238,
          0.059484243392944336,
          0.0445408821105957,
          0.044330596923828125,
          0.045371055603027344,
          0.04965472221374512,
          0.05137205123901367,
          0.05525040626525879,
          0.0662539005279541,
          0.06068229675292969,
          0.05163860321044922,
          0.06367993354797363,
          0.06118059158325195,
          0.05692911148071289,
          0.06296515464782715,
          0.059729576110839844,
          0.0521693229675293,
          0.04797649383544922,
          0.061553001403808594,
          0.05405855178833008,
          0.04530787467956543,
          0.03867673873901367,
          0.04544353485107422,
          0.04362344741821289,
          0.0805051326751709,
          0.08521127700805664,
          0.04562091827392578,
          0.04277324676513672,
          0.04538297653198242,
          0.027989864349365234,
          0.04163408279418945,
          0.038610219955444336,
          0.044972896575927734,
          0.04304957389831543,
          0.044689178466796875,
          0.03774905204772949,
          0.04837322235107422,
          0.031809329986572266,
          0.04382038116455078,
          0.037514686584472656,
          0.04468059539794922,
          0.04000091552734375,
          0.039957523345947266,
          0.03283572196960449,
          0.02374267578125,
          0.02466273307800293,
          0.03715991973876953,
          0.046320199966430664,
          0.038500308990478516,
          0.030281782150268555,
          0.03883218765258789,
          0.03944683074951172,
          0.04021263122558594,
          0.03590679168701172,
          0.0355381965637207,
          0.03261542320251465,
          0.02412891387939453,
          0.0826723575592041,
          0.057669639587402344,
          0.0556640625,
          0.055765390396118164,
          0.05680561065673828,
          0.05755424499511719,
          0.0536198616027832,
          0.057843923568725586,
          0.05609011650085449,
          0.04048800468444824,
          0.04639720916748047,
          0.05348682403564453,
          0.05829143524169922,
          0.04895615577697754,
          0.06434106826782227,
          0.05899763107299805,
          0.05915498733520508,
          0.05197334289550781,
          0.06067061424255371,
          0.05471014976501465,
          0.06134462356567383,
          0.05683708190917969,
          0.06145358085632324,
          0.05889296531677246,
          0.05459189414978027,
          0.052251338958740234,
          0.04549551010131836,
          0.03769350051879883,
          0.04730033874511719,
          0.04542827606201172,
          0.05570101737976074,
          0.07816195487976074,
          0.05060982704162598,
          0.04105091094970703,
          0.040029287338256836,
          0.03889727592468262,
          0.03687596321105957,
          0.04198789596557617,
          0.038039445877075195,
          0.04140448570251465,
          0.043468475341796875,
          0.04204440116882324,
          0.044405460357666016,
          0.04529571533203125,
          0.04575848579406738,
          0.02398824691772461,
          0.019604206085205078,
          0.033091068267822266,
          0.03371071815490723,
          0.031464338302612305,
          0.030992507934570312,
          0.029169321060180664,
          0.03022456169128418,
          0.02470254898071289,
          0.02916407585144043,
          0.03457140922546387,
          0.0312657356262207,
          0.03366422653198242,
          0.03235149383544922,
          0.0383758544921875,
          0.03130602836608887,
          0.03132009506225586,
          0.028968095779418945,
          0.03415346145629883,
          0.07871866226196289,
          0.047800302505493164,
          0.05042552947998047,
          0.0531618595123291,
          0.0466306209564209,
          0.04122805595397949,
          0.04305291175842285,
          0.050065040588378906,
          0.05480217933654785,
          0.05002570152282715,
          0.0579073429107666,
          0.05174374580383301,
          0.050989627838134766,
          0.04898405075073242,
          0.059153079986572266,
          0.0628206729888916,
          0.06506943702697754,
          0.051854848861694336,
          0.05019950866699219,
          0.03675198554992676,
          0.05851387977600098,
          0.05678248405456543,
          0.058145761489868164,
          0.05610299110412598,
          0.05429506301879883,
          0.05672883987426758,
          0.05120348930358887,
          0.047635555267333984,
          0.05031895637512207,
          0.03883767127990723,
          0.04583573341369629,
          0.03956007957458496,
          0.07853817939758301,
          0.052080392837524414,
          0.053957223892211914,
          0.053133487701416016,
          0.056879281997680664,
          0.05863046646118164,
          0.055138349533081055,
          0.05645108222961426,
          0.0574948787689209,
          0.06077170372009277,
          0.057037353515625,
          0.04526519775390625,
          0.06095457077026367,
          0.05715179443359375,
          0.043779850006103516,
          0.05455493927001953,
          0.05541801452636719,
          0.06253767013549805,
          0.06152176856994629,
          0.061118125915527344,
          0.058046817779541016,
          0.051985740661621094,
          0.0555424690246582,
          0.05528998374938965,
          0.037992000579833984,
          0.06220746040344238,
          0.051614999771118164,
          0.0458829402923584,
          0.04404425621032715,
          0.03676962852478027,
          0.06035280227661133,
          0.06473422050476074,
          0.08305168151855469,
          0.0484774112701416,
          0.053517818450927734,
          0.051347970962524414,
          0.04819130897521973,
          0.048862457275390625,
          0.05266094207763672,
          0.05718088150024414,
          0.05034589767456055,
          0.04885530471801758,
          0.05878710746765137,
          0.04713773727416992,
          0.04013824462890625,
          0.048914432525634766,
          0.05932283401489258,
          0.05369210243225098,
          0.05813002586364746,
          0.054407358169555664,
          0.05696225166320801,
          0.058579444885253906,
          0.05396747589111328,
          0.057291507720947266,
          0.054840087890625,
          0.05990457534790039,
          0.05636429786682129,
          0.05980038642883301,
          0.057160377502441406,
          0.056818246841430664,
          0.04226875305175781,
          0.023793935775756836,
          0.04357409477233887,
          0.06767940521240234,
          0.04814577102661133,
          0.05834054946899414,
          0.05766415596008301,
          0.06691646575927734,
          0.05377697944641113,
          0.06023073196411133,
          0.053456783294677734,
          0.06009030342102051,
          0.05576133728027344,
          0.05625438690185547,
          0.051721811294555664,
          0.05666756629943848,
          0.054872751235961914,
          0.04622149467468262,
          0.044374704360961914,
          0.04198884963989258,
          0.03821277618408203,
          0.049842119216918945,
          0.057654619216918945,
          0.09406495094299316,
          0.045554399490356445,
          0.042619943618774414,
          0.04249453544616699,
          0.03408336639404297,
          0.0418703556060791,
          0.030652999877929688,
          0.03629159927368164,
          0.0297396183013916,
          0.03919672966003418,
          0.04248523712158203,
          0.0472869873046875,
          0.042247772216796875,
          0.09942078590393066,
          0.052301645278930664,
          0.030561447143554688,
          0.05209231376647949,
          0.0491328239440918,
          0.05535078048706055,
          0.054592132568359375,
          0.05166983604431152,
          0.05728864669799805,
          0.05695986747741699,
          0.05452227592468262,
          0.047263145446777344,
          0.0579068660736084,
          0.046868085861206055,
          0.052292823791503906,
          0.05741095542907715,
          0.05965781211853027,
          0.058699607849121094,
          0.05511474609375,
          0.06218099594116211,
          0.06313323974609375,
          0.061010122299194336,
          0.058278799057006836,
          0.052506208419799805,
          0.058496952056884766,
          0.04904341697692871,
          0.0511014461517334,
          0.04647684097290039,
          0.04436945915222168,
          0.03569173812866211,
          0.04648852348327637,
          0.059747934341430664,
          0.05350351333618164,
          0.04258441925048828,
          0.044615745544433594,
          0.04076552391052246,
          0.039902448654174805,
          0.03820085525512695,
          0.04043126106262207,
          0.028499603271484375,
          0.04194760322570801,
          0.03895092010498047,
          0.04265117645263672,
          0.045316457748413086,
          0.04292798042297363,
          0.0365145206451416,
          0.035120248794555664,
          0.043616533279418945,
          0.035927772521972656,
          0.038606882095336914,
          0.036828041076660156,
          0.0362849235534668,
          0.03618335723876953,
          0.040986061096191406,
          0.038663625717163086,
          0.04207801818847656,
          0.04015183448791504,
          0.03158116340637207,
          0.03932499885559082,
          0.03340768814086914,
          0.03847002983093262,
          0.03650236129760742,
          0.029329776763916016,
          0.03229331970214844,
          0.07549047470092773,
          0.05256843566894531,
          0.044072628021240234,
          0.035500526428222656,
          0.04065251350402832,
          0.042462825775146484,
          0.037064313888549805,
          0.051218271255493164,
          0.04452371597290039,
          0.03524279594421387,
          0.02440190315246582,
          0.032878875732421875,
          0.021767854690551758,
          0.02519989013671875,
          0.02844524383544922,
          0.029050827026367188,
          0.026259183883666992,
          0.025513410568237305,
          0.02844381332397461,
          0.0376434326171875,
          0.01913619041442871,
          0.03352165222167969,
          0.031096935272216797,
          0.03353428840637207,
          0.03717303276062012,
          0.02682209014892578,
          0.03057861328125,
          0.03527951240539551,
          0.03303670883178711,
          0.014113903045654297,
          0.014437198638916016,
          0.013950586318969727,
          0.04416704177856445,
          0.04604792594909668,
          0.04230785369873047,
          0.04363131523132324,
          0.03768777847290039,
          0.04405379295349121,
          0.04712677001953125,
          0.03676462173461914,
          0.04356265068054199,
          0.041951656341552734,
          0.044724225997924805,
          0.04005265235900879,
          0.04108572006225586,
          0.03440380096435547,
          0.04867243766784668,
          0.03925776481628418,
          0.0401918888092041,
          0.016600370407104492,
          0.028112411499023438,
          0.030515432357788086,
          0.04266357421875,
          0.03980898857116699,
          0.03446555137634277,
          0.045812368392944336,
          0.04013371467590332,
          0.035863399505615234,
          0.0343935489654541,
          0.038700103759765625,
          0.03296256065368652,
          0.03137993812561035,
          0.031162023544311523,
          0.022014141082763672,
          0.06300616264343262,
          0.03590893745422363,
          0.044801950454711914,
          0.03881669044494629,
          0.04085969924926758,
          0.0395352840423584,
          0.04110884666442871,
          0.039046287536621094,
          0.05048036575317383,
          0.030780315399169922,
          0.030720949172973633,
          0.03183245658874512,
          0.028926849365234375,
          0.02819538116455078,
          0.028986215591430664,
          0.027678489685058594,
          0.031029462814331055,
          0.029998779296875,
          0.029757976531982422,
          0.025744915008544922,
          0.021799325942993164,
          0.04085993766784668,
          0.019153594970703125,
          0.011769771575927734,
          0.01212000846862793,
          0.013773441314697266,
          0.01148676872253418,
          0.007846832275390625,
          0.008499622344970703,
          0.008824825286865234,
          0.006533145904541016,
          0.006081104278564453,
          0.059412479400634766,
          0.048452138900756836,
          0.04468941688537598,
          0.046697139739990234,
          0.04207587242126465,
          0.0448458194732666,
          0.04965019226074219,
          0.03787946701049805,
          0.04311394691467285,
          0.049765825271606445,
          0.04284930229187012,
          0.03772139549255371,
          0.0458681583404541,
          0.034784793853759766,
          0.03720235824584961,
          0.041942596435546875,
          0.040419816970825195,
          0.03291010856628418,
          0.0360264778137207,
          0.03934431076049805,
          0.04022979736328125,
          0.04349255561828613,
          0.03788876533508301,
          0.03720402717590332,
          0.0393519401550293,
          0.03392314910888672,
          0.04209470748901367,
          0.021738529205322266,
          0.0345005989074707,
          0.034891605377197266,
          0.033910274505615234,
          0.012279033660888672,
          0.04430341720581055,
          0.05062055587768555,
          0.08402276039123535,
          0.04790449142456055,
          0.04101252555847168,
          0.044205427169799805,
          0.03800654411315918,
          0.03471016883850098,
          0.0396878719329834,
          0.03678441047668457,
          0.04402470588684082,
          0.04849720001220703,
          0.03433990478515625,
          0.038900136947631836,
          0.03458714485168457,
          0.03678703308105469,
          0.02876424789428711,
          0.03542804718017578,
          0.04262590408325195,
          0.04393434524536133,
          0.04438304901123047,
          0.03634953498840332,
          0.039199113845825195,
          0.03788352012634277,
          0.031226634979248047,
          0.03552865982055664,
          0.008222341537475586,
          0.010589599609375,
          0.00802755355834961,
          0.006528615951538086,
          0.0061419010162353516,
          0.006458759307861328,
          0.04344916343688965,
          0.07796764373779297,
          0.05293440818786621,
          0.048595428466796875,
          0.05358719825744629,
          0.056058645248413086,
          0.05114316940307617,
          0.055588483810424805,
          0.04983854293823242,
          0.05557656288146973,
          0.04859805107116699,
          0.043738603591918945,
          0.05614304542541504,
          0.05626058578491211,
          0.04980301856994629,
          0.0510408878326416,
          0.06332516670227051,
          0.05909991264343262,
          0.05709528923034668,
          0.05924510955810547,
          0.058309078216552734,
          0.05632305145263672,
          0.05328655242919922,
          0.05409812927246094,
          0.06032061576843262,
          0.06211113929748535,
          0.05523252487182617,
          0.046980857849121094,
          0.043915748596191406,
          0.04822683334350586,
          0.04322934150695801,
          0.05406785011291504,
          0.06894278526306152,
          0.043417930603027344,
          0.043601036071777344,
          0.0443422794342041,
          0.039418697357177734,
          0.019345760345458984,
          0.04024362564086914,
          0.03587532043457031,
          0.03998255729675293,
          0.036896467208862305,
          0.04047513008117676,
          0.04368782043457031,
          0.05597376823425293,
          0.037514686584472656,
          0.03227639198303223,
          0.022956132888793945,
          0.0349583625793457,
          0.02446293830871582,
          0.02471923828125,
          0.025013208389282227,
          0.027499914169311523,
          0.028183937072753906,
          0.030063152313232422,
          0.0321502685546875,
          0.0327906608581543,
          0.03233146667480469,
          0.03654742240905762,
          0.028608083724975586,
          0.03765058517456055,
          0.029958724975585938,
          0.027314186096191406,
          0.02765631675720215,
          0.06270027160644531,
          0.04818224906921387,
          0.047661781311035156,
          0.0486445426940918,
          0.04440784454345703,
          0.049918413162231445,
          0.05440473556518555,
          0.055312395095825195,
          0.05281877517700195,
          0.050966501235961914,
          0.03130531311035156,
          0.04706907272338867,
          0.045105934143066406,
          0.04614830017089844,
          0.05581188201904297,
          0.062280893325805664,
          0.06736540794372559,
          0.057173967361450195,
          0.058387041091918945,
          0.06110811233520508,
          0.055545806884765625,
          0.05841565132141113,
          0.052698373794555664,
          0.06380295753479004,
          0.05930685997009277,
          0.06435918807983398,
          0.05144047737121582,
          0.05196690559387207,
          0.04308938980102539,
          0.04454994201660156,
          0.045085906982421875,
          0.08192181587219238,
          0.058983802795410156,
          0.05123424530029297,
          0.05136442184448242,
          0.05390357971191406,
          0.05522894859313965,
          0.059476613998413086,
          0.04492616653442383,
          0.048819541931152344,
          0.0534052848815918,
          0.051346540451049805,
          0.0514676570892334,
          0.0474395751953125,
          0.051195621490478516,
          0.046527862548828125,
          0.047600746154785156,
          0.037134647369384766,
          0.06655550003051758,
          0.05381298065185547,
          0.06481337547302246,
          0.05751490592956543,
          0.046408891677856445,
          0.05104255676269531,
          0.05641818046569824,
          0.05614447593688965,
          0.06461453437805176,
          0.053093910217285156,
          0.05437421798706055,
          0.0484929084777832,
          0.0451967716217041,
          0.04205012321472168,
          0.041405439376831055,
          0.056012868881225586,
          0.0889890193939209,
          0.046388864517211914,
          0.05411839485168457,
          0.046489715576171875,
          0.0489199161529541,
          0.05548238754272461,
          0.05464005470275879,
          0.049355268478393555,
          0.05804634094238281,
          0.05938839912414551,
          0.04598712921142578,
          0.0424342155456543,
          0.0509645938873291,
          0.04933667182922363,
          0.04152536392211914,
          0.04962038993835449,
          0.06244468688964844,
          0.05783438682556152,
          0.05653119087219238,
          0.04697990417480469,
          0.04830002784729004,
          0.05622434616088867,
          0.058595895767211914,
          0.05309152603149414,
          0.05504345893859863,
          0.0620424747467041,
          0.05537676811218262,
          0.05072617530822754,
          0.04337620735168457,
          0.04388427734375,
          0.04370856285095215,
          0.046634674072265625,
          0.06812429428100586,
          0.04632282257080078,
          0.04699110984802246,
          0.04455113410949707,
          0.05077838897705078,
          0.04847860336303711,
          0.050469160079956055,
          0.0510401725769043,
          0.05724692344665527,
          0.052336931228637695,
          0.05873751640319824,
          0.044272661209106445,
          0.04286599159240723,
          0.045000553131103516,
          0.051492929458618164,
          0.06024527549743652,
          0.061917781829833984,
          0.05347132682800293,
          0.055547237396240234,
          0.06073760986328125,
          0.05973482131958008,
          0.054131269454956055,
          0.05500507354736328,
          0.05308032035827637,
          0.06479978561401367,
          0.04259014129638672,
          0.018465280532836914,
          0.020056486129760742,
          0.024711132049560547,
          0.01738119125366211,
          0.014534473419189453,
          0.022514820098876953,
          0.01573967933654785,
          0.06290793418884277,
          0.02716231346130371,
          0.018877029418945312,
          0.016797542572021484,
          0.016010046005249023,
          0.01935720443725586,
          0.022863388061523438,
          0.017748117446899414,
          0.019595861434936523,
          0.014773368835449219,
          0.01824188232421875,
          0.019608020782470703,
          0.01721811294555664,
          0.015613079071044922,
          0.01744532585144043,
          0.015653610229492188,
          0.018997907638549805,
          0.01853799819946289,
          0.014780282974243164,
          0.016166210174560547,
          0.019196033477783203,
          0.02657008171081543,
          0.020036935806274414,
          0.01797962188720703,
          0.022955656051635742,
          0.01648545265197754,
          0.023073673248291016,
          0.016691923141479492,
          0.015257835388183594,
          0.013122081756591797
         ],
         "xaxis": "x",
         "yaxis": "y"
        }
       ],
       "layout": {
        "barmode": "relative",
        "legend": {
         "title": {
          "text": "variable"
         },
         "tracegroupgap": 0
        },
        "template": {
         "data": {
          "bar": [
           {
            "error_x": {
             "color": "#2a3f5f"
            },
            "error_y": {
             "color": "#2a3f5f"
            },
            "marker": {
             "line": {
              "color": "#E5ECF6",
              "width": 0.5
             },
             "pattern": {
              "fillmode": "overlay",
              "size": 10,
              "solidity": 0.2
             }
            },
            "type": "bar"
           }
          ],
          "barpolar": [
           {
            "marker": {
             "line": {
              "color": "#E5ECF6",
              "width": 0.5
             },
             "pattern": {
              "fillmode": "overlay",
              "size": 10,
              "solidity": 0.2
             }
            },
            "type": "barpolar"
           }
          ],
          "carpet": [
           {
            "aaxis": {
             "endlinecolor": "#2a3f5f",
             "gridcolor": "white",
             "linecolor": "white",
             "minorgridcolor": "white",
             "startlinecolor": "#2a3f5f"
            },
            "baxis": {
             "endlinecolor": "#2a3f5f",
             "gridcolor": "white",
             "linecolor": "white",
             "minorgridcolor": "white",
             "startlinecolor": "#2a3f5f"
            },
            "type": "carpet"
           }
          ],
          "choropleth": [
           {
            "colorbar": {
             "outlinewidth": 0,
             "ticks": ""
            },
            "type": "choropleth"
           }
          ],
          "contour": [
           {
            "colorbar": {
             "outlinewidth": 0,
             "ticks": ""
            },
            "colorscale": [
             [
              0,
              "#0d0887"
             ],
             [
              0.1111111111111111,
              "#46039f"
             ],
             [
              0.2222222222222222,
              "#7201a8"
             ],
             [
              0.3333333333333333,
              "#9c179e"
             ],
             [
              0.4444444444444444,
              "#bd3786"
             ],
             [
              0.5555555555555556,
              "#d8576b"
             ],
             [
              0.6666666666666666,
              "#ed7953"
             ],
             [
              0.7777777777777778,
              "#fb9f3a"
             ],
             [
              0.8888888888888888,
              "#fdca26"
             ],
             [
              1,
              "#f0f921"
             ]
            ],
            "type": "contour"
           }
          ],
          "contourcarpet": [
           {
            "colorbar": {
             "outlinewidth": 0,
             "ticks": ""
            },
            "type": "contourcarpet"
           }
          ],
          "heatmap": [
           {
            "colorbar": {
             "outlinewidth": 0,
             "ticks": ""
            },
            "colorscale": [
             [
              0,
              "#0d0887"
             ],
             [
              0.1111111111111111,
              "#46039f"
             ],
             [
              0.2222222222222222,
              "#7201a8"
             ],
             [
              0.3333333333333333,
              "#9c179e"
             ],
             [
              0.4444444444444444,
              "#bd3786"
             ],
             [
              0.5555555555555556,
              "#d8576b"
             ],
             [
              0.6666666666666666,
              "#ed7953"
             ],
             [
              0.7777777777777778,
              "#fb9f3a"
             ],
             [
              0.8888888888888888,
              "#fdca26"
             ],
             [
              1,
              "#f0f921"
             ]
            ],
            "type": "heatmap"
           }
          ],
          "heatmapgl": [
           {
            "colorbar": {
             "outlinewidth": 0,
             "ticks": ""
            },
            "colorscale": [
             [
              0,
              "#0d0887"
             ],
             [
              0.1111111111111111,
              "#46039f"
             ],
             [
              0.2222222222222222,
              "#7201a8"
             ],
             [
              0.3333333333333333,
              "#9c179e"
             ],
             [
              0.4444444444444444,
              "#bd3786"
             ],
             [
              0.5555555555555556,
              "#d8576b"
             ],
             [
              0.6666666666666666,
              "#ed7953"
             ],
             [
              0.7777777777777778,
              "#fb9f3a"
             ],
             [
              0.8888888888888888,
              "#fdca26"
             ],
             [
              1,
              "#f0f921"
             ]
            ],
            "type": "heatmapgl"
           }
          ],
          "histogram": [
           {
            "marker": {
             "pattern": {
              "fillmode": "overlay",
              "size": 10,
              "solidity": 0.2
             }
            },
            "type": "histogram"
           }
          ],
          "histogram2d": [
           {
            "colorbar": {
             "outlinewidth": 0,
             "ticks": ""
            },
            "colorscale": [
             [
              0,
              "#0d0887"
             ],
             [
              0.1111111111111111,
              "#46039f"
             ],
             [
              0.2222222222222222,
              "#7201a8"
             ],
             [
              0.3333333333333333,
              "#9c179e"
             ],
             [
              0.4444444444444444,
              "#bd3786"
             ],
             [
              0.5555555555555556,
              "#d8576b"
             ],
             [
              0.6666666666666666,
              "#ed7953"
             ],
             [
              0.7777777777777778,
              "#fb9f3a"
             ],
             [
              0.8888888888888888,
              "#fdca26"
             ],
             [
              1,
              "#f0f921"
             ]
            ],
            "type": "histogram2d"
           }
          ],
          "histogram2dcontour": [
           {
            "colorbar": {
             "outlinewidth": 0,
             "ticks": ""
            },
            "colorscale": [
             [
              0,
              "#0d0887"
             ],
             [
              0.1111111111111111,
              "#46039f"
             ],
             [
              0.2222222222222222,
              "#7201a8"
             ],
             [
              0.3333333333333333,
              "#9c179e"
             ],
             [
              0.4444444444444444,
              "#bd3786"
             ],
             [
              0.5555555555555556,
              "#d8576b"
             ],
             [
              0.6666666666666666,
              "#ed7953"
             ],
             [
              0.7777777777777778,
              "#fb9f3a"
             ],
             [
              0.8888888888888888,
              "#fdca26"
             ],
             [
              1,
              "#f0f921"
             ]
            ],
            "type": "histogram2dcontour"
           }
          ],
          "mesh3d": [
           {
            "colorbar": {
             "outlinewidth": 0,
             "ticks": ""
            },
            "type": "mesh3d"
           }
          ],
          "parcoords": [
           {
            "line": {
             "colorbar": {
              "outlinewidth": 0,
              "ticks": ""
             }
            },
            "type": "parcoords"
           }
          ],
          "pie": [
           {
            "automargin": true,
            "type": "pie"
           }
          ],
          "scatter": [
           {
            "fillpattern": {
             "fillmode": "overlay",
             "size": 10,
             "solidity": 0.2
            },
            "type": "scatter"
           }
          ],
          "scatter3d": [
           {
            "line": {
             "colorbar": {
              "outlinewidth": 0,
              "ticks": ""
             }
            },
            "marker": {
             "colorbar": {
              "outlinewidth": 0,
              "ticks": ""
             }
            },
            "type": "scatter3d"
           }
          ],
          "scattercarpet": [
           {
            "marker": {
             "colorbar": {
              "outlinewidth": 0,
              "ticks": ""
             }
            },
            "type": "scattercarpet"
           }
          ],
          "scattergeo": [
           {
            "marker": {
             "colorbar": {
              "outlinewidth": 0,
              "ticks": ""
             }
            },
            "type": "scattergeo"
           }
          ],
          "scattergl": [
           {
            "marker": {
             "colorbar": {
              "outlinewidth": 0,
              "ticks": ""
             }
            },
            "type": "scattergl"
           }
          ],
          "scattermapbox": [
           {
            "marker": {
             "colorbar": {
              "outlinewidth": 0,
              "ticks": ""
             }
            },
            "type": "scattermapbox"
           }
          ],
          "scatterpolar": [
           {
            "marker": {
             "colorbar": {
              "outlinewidth": 0,
              "ticks": ""
             }
            },
            "type": "scatterpolar"
           }
          ],
          "scatterpolargl": [
           {
            "marker": {
             "colorbar": {
              "outlinewidth": 0,
              "ticks": ""
             }
            },
            "type": "scatterpolargl"
           }
          ],
          "scatterternary": [
           {
            "marker": {
             "colorbar": {
              "outlinewidth": 0,
              "ticks": ""
             }
            },
            "type": "scatterternary"
           }
          ],
          "surface": [
           {
            "colorbar": {
             "outlinewidth": 0,
             "ticks": ""
            },
            "colorscale": [
             [
              0,
              "#0d0887"
             ],
             [
              0.1111111111111111,
              "#46039f"
             ],
             [
              0.2222222222222222,
              "#7201a8"
             ],
             [
              0.3333333333333333,
              "#9c179e"
             ],
             [
              0.4444444444444444,
              "#bd3786"
             ],
             [
              0.5555555555555556,
              "#d8576b"
             ],
             [
              0.6666666666666666,
              "#ed7953"
             ],
             [
              0.7777777777777778,
              "#fb9f3a"
             ],
             [
              0.8888888888888888,
              "#fdca26"
             ],
             [
              1,
              "#f0f921"
             ]
            ],
            "type": "surface"
           }
          ],
          "table": [
           {
            "cells": {
             "fill": {
              "color": "#EBF0F8"
             },
             "line": {
              "color": "white"
             }
            },
            "header": {
             "fill": {
              "color": "#C8D4E3"
             },
             "line": {
              "color": "white"
             }
            },
            "type": "table"
           }
          ]
         },
         "layout": {
          "annotationdefaults": {
           "arrowcolor": "#2a3f5f",
           "arrowhead": 0,
           "arrowwidth": 1
          },
          "autotypenumbers": "strict",
          "coloraxis": {
           "colorbar": {
            "outlinewidth": 0,
            "ticks": ""
           }
          },
          "colorscale": {
           "diverging": [
            [
             0,
             "#8e0152"
            ],
            [
             0.1,
             "#c51b7d"
            ],
            [
             0.2,
             "#de77ae"
            ],
            [
             0.3,
             "#f1b6da"
            ],
            [
             0.4,
             "#fde0ef"
            ],
            [
             0.5,
             "#f7f7f7"
            ],
            [
             0.6,
             "#e6f5d0"
            ],
            [
             0.7,
             "#b8e186"
            ],
            [
             0.8,
             "#7fbc41"
            ],
            [
             0.9,
             "#4d9221"
            ],
            [
             1,
             "#276419"
            ]
           ],
           "sequential": [
            [
             0,
             "#0d0887"
            ],
            [
             0.1111111111111111,
             "#46039f"
            ],
            [
             0.2222222222222222,
             "#7201a8"
            ],
            [
             0.3333333333333333,
             "#9c179e"
            ],
            [
             0.4444444444444444,
             "#bd3786"
            ],
            [
             0.5555555555555556,
             "#d8576b"
            ],
            [
             0.6666666666666666,
             "#ed7953"
            ],
            [
             0.7777777777777778,
             "#fb9f3a"
            ],
            [
             0.8888888888888888,
             "#fdca26"
            ],
            [
             1,
             "#f0f921"
            ]
           ],
           "sequentialminus": [
            [
             0,
             "#0d0887"
            ],
            [
             0.1111111111111111,
             "#46039f"
            ],
            [
             0.2222222222222222,
             "#7201a8"
            ],
            [
             0.3333333333333333,
             "#9c179e"
            ],
            [
             0.4444444444444444,
             "#bd3786"
            ],
            [
             0.5555555555555556,
             "#d8576b"
            ],
            [
             0.6666666666666666,
             "#ed7953"
            ],
            [
             0.7777777777777778,
             "#fb9f3a"
            ],
            [
             0.8888888888888888,
             "#fdca26"
            ],
            [
             1,
             "#f0f921"
            ]
           ]
          },
          "colorway": [
           "#636efa",
           "#EF553B",
           "#00cc96",
           "#ab63fa",
           "#FFA15A",
           "#19d3f3",
           "#FF6692",
           "#B6E880",
           "#FF97FF",
           "#FECB52"
          ],
          "font": {
           "color": "#2a3f5f"
          },
          "geo": {
           "bgcolor": "white",
           "lakecolor": "white",
           "landcolor": "#E5ECF6",
           "showlakes": true,
           "showland": true,
           "subunitcolor": "white"
          },
          "hoverlabel": {
           "align": "left"
          },
          "hovermode": "closest",
          "mapbox": {
           "style": "light"
          },
          "paper_bgcolor": "white",
          "plot_bgcolor": "#E5ECF6",
          "polar": {
           "angularaxis": {
            "gridcolor": "white",
            "linecolor": "white",
            "ticks": ""
           },
           "bgcolor": "#E5ECF6",
           "radialaxis": {
            "gridcolor": "white",
            "linecolor": "white",
            "ticks": ""
           }
          },
          "scene": {
           "xaxis": {
            "backgroundcolor": "#E5ECF6",
            "gridcolor": "white",
            "gridwidth": 2,
            "linecolor": "white",
            "showbackground": true,
            "ticks": "",
            "zerolinecolor": "white"
           },
           "yaxis": {
            "backgroundcolor": "#E5ECF6",
            "gridcolor": "white",
            "gridwidth": 2,
            "linecolor": "white",
            "showbackground": true,
            "ticks": "",
            "zerolinecolor": "white"
           },
           "zaxis": {
            "backgroundcolor": "#E5ECF6",
            "gridcolor": "white",
            "gridwidth": 2,
            "linecolor": "white",
            "showbackground": true,
            "ticks": "",
            "zerolinecolor": "white"
           }
          },
          "shapedefaults": {
           "line": {
            "color": "#2a3f5f"
           }
          },
          "ternary": {
           "aaxis": {
            "gridcolor": "white",
            "linecolor": "white",
            "ticks": ""
           },
           "baxis": {
            "gridcolor": "white",
            "linecolor": "white",
            "ticks": ""
           },
           "bgcolor": "#E5ECF6",
           "caxis": {
            "gridcolor": "white",
            "linecolor": "white",
            "ticks": ""
           }
          },
          "title": {
           "x": 0.05
          },
          "xaxis": {
           "automargin": true,
           "gridcolor": "white",
           "linecolor": "white",
           "ticks": "",
           "title": {
            "standoff": 15
           },
           "zerolinecolor": "white",
           "zerolinewidth": 2
          },
          "yaxis": {
           "automargin": true,
           "gridcolor": "white",
           "linecolor": "white",
           "ticks": "",
           "title": {
            "standoff": 15
           },
           "zerolinecolor": "white",
           "zerolinewidth": 2
          }
         }
        },
        "title": {
         "text": "Time to Compute Hist"
        },
        "xaxis": {
         "anchor": "y",
         "domain": [
          0,
          1
         ],
         "title": {
          "text": "value"
         }
        },
        "yaxis": {
         "anchor": "x",
         "domain": [
          0,
          1
         ],
         "title": {
          "text": "count"
         }
        }
       }
      },
      "text/html": [
       "<div>                            <div id=\"e88cd886-2e5a-4340-9f2e-50c3b4a1b655\" class=\"plotly-graph-div\" style=\"height:525px; width:100%;\"></div>            <script type=\"text/javascript\">                require([\"plotly\"], function(Plotly) {                    window.PLOTLYENV=window.PLOTLYENV || {};                                    if (document.getElementById(\"e88cd886-2e5a-4340-9f2e-50c3b4a1b655\")) {                    Plotly.newPlot(                        \"e88cd886-2e5a-4340-9f2e-50c3b4a1b655\",                        [{\"alignmentgroup\":\"True\",\"bingroup\":\"x\",\"hovertemplate\":\"variable=0<br>value=%{x}<br>count=%{y}<extra></extra>\",\"legendgroup\":\"0\",\"marker\":{\"color\":\"#636efa\",\"pattern\":{\"shape\":\"\"}},\"name\":\"0\",\"offsetgroup\":\"0\",\"orientation\":\"v\",\"showlegend\":true,\"x\":[0.06633758544921875,0.04975581169128418,0.04631805419921875,0.048093557357788086,0.05420660972595215,0.049715518951416016,0.04949831962585449,0.04908490180969238,0.059484243392944336,0.0445408821105957,0.044330596923828125,0.045371055603027344,0.04965472221374512,0.05137205123901367,0.05525040626525879,0.0662539005279541,0.06068229675292969,0.05163860321044922,0.06367993354797363,0.06118059158325195,0.05692911148071289,0.06296515464782715,0.059729576110839844,0.0521693229675293,0.04797649383544922,0.061553001403808594,0.05405855178833008,0.04530787467956543,0.03867673873901367,0.04544353485107422,0.04362344741821289,0.0805051326751709,0.08521127700805664,0.04562091827392578,0.04277324676513672,0.04538297653198242,0.027989864349365234,0.04163408279418945,0.038610219955444336,0.044972896575927734,0.04304957389831543,0.044689178466796875,0.03774905204772949,0.04837322235107422,0.031809329986572266,0.04382038116455078,0.037514686584472656,0.04468059539794922,0.04000091552734375,0.039957523345947266,0.03283572196960449,0.02374267578125,0.02466273307800293,0.03715991973876953,0.046320199966430664,0.038500308990478516,0.030281782150268555,0.03883218765258789,0.03944683074951172,0.04021263122558594,0.03590679168701172,0.0355381965637207,0.03261542320251465,0.02412891387939453,0.0826723575592041,0.057669639587402344,0.0556640625,0.055765390396118164,0.05680561065673828,0.05755424499511719,0.0536198616027832,0.057843923568725586,0.05609011650085449,0.04048800468444824,0.04639720916748047,0.05348682403564453,0.05829143524169922,0.04895615577697754,0.06434106826782227,0.05899763107299805,0.05915498733520508,0.05197334289550781,0.06067061424255371,0.05471014976501465,0.06134462356567383,0.05683708190917969,0.06145358085632324,0.05889296531677246,0.05459189414978027,0.052251338958740234,0.04549551010131836,0.03769350051879883,0.04730033874511719,0.04542827606201172,0.05570101737976074,0.07816195487976074,0.05060982704162598,0.04105091094970703,0.040029287338256836,0.03889727592468262,0.03687596321105957,0.04198789596557617,0.038039445877075195,0.04140448570251465,0.043468475341796875,0.04204440116882324,0.044405460357666016,0.04529571533203125,0.04575848579406738,0.02398824691772461,0.019604206085205078,0.033091068267822266,0.03371071815490723,0.031464338302612305,0.030992507934570312,0.029169321060180664,0.03022456169128418,0.02470254898071289,0.02916407585144043,0.03457140922546387,0.0312657356262207,0.03366422653198242,0.03235149383544922,0.0383758544921875,0.03130602836608887,0.03132009506225586,0.028968095779418945,0.03415346145629883,0.07871866226196289,0.047800302505493164,0.05042552947998047,0.0531618595123291,0.0466306209564209,0.04122805595397949,0.04305291175842285,0.050065040588378906,0.05480217933654785,0.05002570152282715,0.0579073429107666,0.05174374580383301,0.050989627838134766,0.04898405075073242,0.059153079986572266,0.0628206729888916,0.06506943702697754,0.051854848861694336,0.05019950866699219,0.03675198554992676,0.05851387977600098,0.05678248405456543,0.058145761489868164,0.05610299110412598,0.05429506301879883,0.05672883987426758,0.05120348930358887,0.047635555267333984,0.05031895637512207,0.03883767127990723,0.04583573341369629,0.03956007957458496,0.07853817939758301,0.052080392837524414,0.053957223892211914,0.053133487701416016,0.056879281997680664,0.05863046646118164,0.055138349533081055,0.05645108222961426,0.0574948787689209,0.06077170372009277,0.057037353515625,0.04526519775390625,0.06095457077026367,0.05715179443359375,0.043779850006103516,0.05455493927001953,0.05541801452636719,0.06253767013549805,0.06152176856994629,0.061118125915527344,0.058046817779541016,0.051985740661621094,0.0555424690246582,0.05528998374938965,0.037992000579833984,0.06220746040344238,0.051614999771118164,0.0458829402923584,0.04404425621032715,0.03676962852478027,0.06035280227661133,0.06473422050476074,0.08305168151855469,0.0484774112701416,0.053517818450927734,0.051347970962524414,0.04819130897521973,0.048862457275390625,0.05266094207763672,0.05718088150024414,0.05034589767456055,0.04885530471801758,0.05878710746765137,0.04713773727416992,0.04013824462890625,0.048914432525634766,0.05932283401489258,0.05369210243225098,0.05813002586364746,0.054407358169555664,0.05696225166320801,0.058579444885253906,0.05396747589111328,0.057291507720947266,0.054840087890625,0.05990457534790039,0.05636429786682129,0.05980038642883301,0.057160377502441406,0.056818246841430664,0.04226875305175781,0.023793935775756836,0.04357409477233887,0.06767940521240234,0.04814577102661133,0.05834054946899414,0.05766415596008301,0.06691646575927734,0.05377697944641113,0.06023073196411133,0.053456783294677734,0.06009030342102051,0.05576133728027344,0.05625438690185547,0.051721811294555664,0.05666756629943848,0.054872751235961914,0.04622149467468262,0.044374704360961914,0.04198884963989258,0.03821277618408203,0.049842119216918945,0.057654619216918945,0.09406495094299316,0.045554399490356445,0.042619943618774414,0.04249453544616699,0.03408336639404297,0.0418703556060791,0.030652999877929688,0.03629159927368164,0.0297396183013916,0.03919672966003418,0.04248523712158203,0.0472869873046875,0.042247772216796875,0.09942078590393066,0.052301645278930664,0.030561447143554688,0.05209231376647949,0.0491328239440918,0.05535078048706055,0.054592132568359375,0.05166983604431152,0.05728864669799805,0.05695986747741699,0.05452227592468262,0.047263145446777344,0.0579068660736084,0.046868085861206055,0.052292823791503906,0.05741095542907715,0.05965781211853027,0.058699607849121094,0.05511474609375,0.06218099594116211,0.06313323974609375,0.061010122299194336,0.058278799057006836,0.052506208419799805,0.058496952056884766,0.04904341697692871,0.0511014461517334,0.04647684097290039,0.04436945915222168,0.03569173812866211,0.04648852348327637,0.059747934341430664,0.05350351333618164,0.04258441925048828,0.044615745544433594,0.04076552391052246,0.039902448654174805,0.03820085525512695,0.04043126106262207,0.028499603271484375,0.04194760322570801,0.03895092010498047,0.04265117645263672,0.045316457748413086,0.04292798042297363,0.0365145206451416,0.035120248794555664,0.043616533279418945,0.035927772521972656,0.038606882095336914,0.036828041076660156,0.0362849235534668,0.03618335723876953,0.040986061096191406,0.038663625717163086,0.04207801818847656,0.04015183448791504,0.03158116340637207,0.03932499885559082,0.03340768814086914,0.03847002983093262,0.03650236129760742,0.029329776763916016,0.03229331970214844,0.07549047470092773,0.05256843566894531,0.044072628021240234,0.035500526428222656,0.04065251350402832,0.042462825775146484,0.037064313888549805,0.051218271255493164,0.04452371597290039,0.03524279594421387,0.02440190315246582,0.032878875732421875,0.021767854690551758,0.02519989013671875,0.02844524383544922,0.029050827026367188,0.026259183883666992,0.025513410568237305,0.02844381332397461,0.0376434326171875,0.01913619041442871,0.03352165222167969,0.031096935272216797,0.03353428840637207,0.03717303276062012,0.02682209014892578,0.03057861328125,0.03527951240539551,0.03303670883178711,0.014113903045654297,0.014437198638916016,0.013950586318969727,0.04416704177856445,0.04604792594909668,0.04230785369873047,0.04363131523132324,0.03768777847290039,0.04405379295349121,0.04712677001953125,0.03676462173461914,0.04356265068054199,0.041951656341552734,0.044724225997924805,0.04005265235900879,0.04108572006225586,0.03440380096435547,0.04867243766784668,0.03925776481628418,0.0401918888092041,0.016600370407104492,0.028112411499023438,0.030515432357788086,0.04266357421875,0.03980898857116699,0.03446555137634277,0.045812368392944336,0.04013371467590332,0.035863399505615234,0.0343935489654541,0.038700103759765625,0.03296256065368652,0.03137993812561035,0.031162023544311523,0.022014141082763672,0.06300616264343262,0.03590893745422363,0.044801950454711914,0.03881669044494629,0.04085969924926758,0.0395352840423584,0.04110884666442871,0.039046287536621094,0.05048036575317383,0.030780315399169922,0.030720949172973633,0.03183245658874512,0.028926849365234375,0.02819538116455078,0.028986215591430664,0.027678489685058594,0.031029462814331055,0.029998779296875,0.029757976531982422,0.025744915008544922,0.021799325942993164,0.04085993766784668,0.019153594970703125,0.011769771575927734,0.01212000846862793,0.013773441314697266,0.01148676872253418,0.007846832275390625,0.008499622344970703,0.008824825286865234,0.006533145904541016,0.006081104278564453,0.059412479400634766,0.048452138900756836,0.04468941688537598,0.046697139739990234,0.04207587242126465,0.0448458194732666,0.04965019226074219,0.03787946701049805,0.04311394691467285,0.049765825271606445,0.04284930229187012,0.03772139549255371,0.0458681583404541,0.034784793853759766,0.03720235824584961,0.041942596435546875,0.040419816970825195,0.03291010856628418,0.0360264778137207,0.03934431076049805,0.04022979736328125,0.04349255561828613,0.03788876533508301,0.03720402717590332,0.0393519401550293,0.03392314910888672,0.04209470748901367,0.021738529205322266,0.0345005989074707,0.034891605377197266,0.033910274505615234,0.012279033660888672,0.04430341720581055,0.05062055587768555,0.08402276039123535,0.04790449142456055,0.04101252555847168,0.044205427169799805,0.03800654411315918,0.03471016883850098,0.0396878719329834,0.03678441047668457,0.04402470588684082,0.04849720001220703,0.03433990478515625,0.038900136947631836,0.03458714485168457,0.03678703308105469,0.02876424789428711,0.03542804718017578,0.04262590408325195,0.04393434524536133,0.04438304901123047,0.03634953498840332,0.039199113845825195,0.03788352012634277,0.031226634979248047,0.03552865982055664,0.008222341537475586,0.010589599609375,0.00802755355834961,0.006528615951538086,0.0061419010162353516,0.006458759307861328,0.04344916343688965,0.07796764373779297,0.05293440818786621,0.048595428466796875,0.05358719825744629,0.056058645248413086,0.05114316940307617,0.055588483810424805,0.04983854293823242,0.05557656288146973,0.04859805107116699,0.043738603591918945,0.05614304542541504,0.05626058578491211,0.04980301856994629,0.0510408878326416,0.06332516670227051,0.05909991264343262,0.05709528923034668,0.05924510955810547,0.058309078216552734,0.05632305145263672,0.05328655242919922,0.05409812927246094,0.06032061576843262,0.06211113929748535,0.05523252487182617,0.046980857849121094,0.043915748596191406,0.04822683334350586,0.04322934150695801,0.05406785011291504,0.06894278526306152,0.043417930603027344,0.043601036071777344,0.0443422794342041,0.039418697357177734,0.019345760345458984,0.04024362564086914,0.03587532043457031,0.03998255729675293,0.036896467208862305,0.04047513008117676,0.04368782043457031,0.05597376823425293,0.037514686584472656,0.03227639198303223,0.022956132888793945,0.0349583625793457,0.02446293830871582,0.02471923828125,0.025013208389282227,0.027499914169311523,0.028183937072753906,0.030063152313232422,0.0321502685546875,0.0327906608581543,0.03233146667480469,0.03654742240905762,0.028608083724975586,0.03765058517456055,0.029958724975585938,0.027314186096191406,0.02765631675720215,0.06270027160644531,0.04818224906921387,0.047661781311035156,0.0486445426940918,0.04440784454345703,0.049918413162231445,0.05440473556518555,0.055312395095825195,0.05281877517700195,0.050966501235961914,0.03130531311035156,0.04706907272338867,0.045105934143066406,0.04614830017089844,0.05581188201904297,0.062280893325805664,0.06736540794372559,0.057173967361450195,0.058387041091918945,0.06110811233520508,0.055545806884765625,0.05841565132141113,0.052698373794555664,0.06380295753479004,0.05930685997009277,0.06435918807983398,0.05144047737121582,0.05196690559387207,0.04308938980102539,0.04454994201660156,0.045085906982421875,0.08192181587219238,0.058983802795410156,0.05123424530029297,0.05136442184448242,0.05390357971191406,0.05522894859313965,0.059476613998413086,0.04492616653442383,0.048819541931152344,0.0534052848815918,0.051346540451049805,0.0514676570892334,0.0474395751953125,0.051195621490478516,0.046527862548828125,0.047600746154785156,0.037134647369384766,0.06655550003051758,0.05381298065185547,0.06481337547302246,0.05751490592956543,0.046408891677856445,0.05104255676269531,0.05641818046569824,0.05614447593688965,0.06461453437805176,0.053093910217285156,0.05437421798706055,0.0484929084777832,0.0451967716217041,0.04205012321472168,0.041405439376831055,0.056012868881225586,0.0889890193939209,0.046388864517211914,0.05411839485168457,0.046489715576171875,0.0489199161529541,0.05548238754272461,0.05464005470275879,0.049355268478393555,0.05804634094238281,0.05938839912414551,0.04598712921142578,0.0424342155456543,0.0509645938873291,0.04933667182922363,0.04152536392211914,0.04962038993835449,0.06244468688964844,0.05783438682556152,0.05653119087219238,0.04697990417480469,0.04830002784729004,0.05622434616088867,0.058595895767211914,0.05309152603149414,0.05504345893859863,0.0620424747467041,0.05537676811218262,0.05072617530822754,0.04337620735168457,0.04388427734375,0.04370856285095215,0.046634674072265625,0.06812429428100586,0.04632282257080078,0.04699110984802246,0.04455113410949707,0.05077838897705078,0.04847860336303711,0.050469160079956055,0.0510401725769043,0.05724692344665527,0.052336931228637695,0.05873751640319824,0.044272661209106445,0.04286599159240723,0.045000553131103516,0.051492929458618164,0.06024527549743652,0.061917781829833984,0.05347132682800293,0.055547237396240234,0.06073760986328125,0.05973482131958008,0.054131269454956055,0.05500507354736328,0.05308032035827637,0.06479978561401367,0.04259014129638672,0.018465280532836914,0.020056486129760742,0.024711132049560547,0.01738119125366211,0.014534473419189453,0.022514820098876953,0.01573967933654785,0.06290793418884277,0.02716231346130371,0.018877029418945312,0.016797542572021484,0.016010046005249023,0.01935720443725586,0.022863388061523438,0.017748117446899414,0.019595861434936523,0.014773368835449219,0.01824188232421875,0.019608020782470703,0.01721811294555664,0.015613079071044922,0.01744532585144043,0.015653610229492188,0.018997907638549805,0.01853799819946289,0.014780282974243164,0.016166210174560547,0.019196033477783203,0.02657008171081543,0.020036935806274414,0.01797962188720703,0.022955656051635742,0.01648545265197754,0.023073673248291016,0.016691923141479492,0.015257835388183594,0.013122081756591797],\"xaxis\":\"x\",\"yaxis\":\"y\",\"type\":\"histogram\"}],                        {\"template\":{\"data\":{\"histogram2dcontour\":[{\"type\":\"histogram2dcontour\",\"colorbar\":{\"outlinewidth\":0,\"ticks\":\"\"},\"colorscale\":[[0.0,\"#0d0887\"],[0.1111111111111111,\"#46039f\"],[0.2222222222222222,\"#7201a8\"],[0.3333333333333333,\"#9c179e\"],[0.4444444444444444,\"#bd3786\"],[0.5555555555555556,\"#d8576b\"],[0.6666666666666666,\"#ed7953\"],[0.7777777777777778,\"#fb9f3a\"],[0.8888888888888888,\"#fdca26\"],[1.0,\"#f0f921\"]]}],\"choropleth\":[{\"type\":\"choropleth\",\"colorbar\":{\"outlinewidth\":0,\"ticks\":\"\"}}],\"histogram2d\":[{\"type\":\"histogram2d\",\"colorbar\":{\"outlinewidth\":0,\"ticks\":\"\"},\"colorscale\":[[0.0,\"#0d0887\"],[0.1111111111111111,\"#46039f\"],[0.2222222222222222,\"#7201a8\"],[0.3333333333333333,\"#9c179e\"],[0.4444444444444444,\"#bd3786\"],[0.5555555555555556,\"#d8576b\"],[0.6666666666666666,\"#ed7953\"],[0.7777777777777778,\"#fb9f3a\"],[0.8888888888888888,\"#fdca26\"],[1.0,\"#f0f921\"]]}],\"heatmap\":[{\"type\":\"heatmap\",\"colorbar\":{\"outlinewidth\":0,\"ticks\":\"\"},\"colorscale\":[[0.0,\"#0d0887\"],[0.1111111111111111,\"#46039f\"],[0.2222222222222222,\"#7201a8\"],[0.3333333333333333,\"#9c179e\"],[0.4444444444444444,\"#bd3786\"],[0.5555555555555556,\"#d8576b\"],[0.6666666666666666,\"#ed7953\"],[0.7777777777777778,\"#fb9f3a\"],[0.8888888888888888,\"#fdca26\"],[1.0,\"#f0f921\"]]}],\"heatmapgl\":[{\"type\":\"heatmapgl\",\"colorbar\":{\"outlinewidth\":0,\"ticks\":\"\"},\"colorscale\":[[0.0,\"#0d0887\"],[0.1111111111111111,\"#46039f\"],[0.2222222222222222,\"#7201a8\"],[0.3333333333333333,\"#9c179e\"],[0.4444444444444444,\"#bd3786\"],[0.5555555555555556,\"#d8576b\"],[0.6666666666666666,\"#ed7953\"],[0.7777777777777778,\"#fb9f3a\"],[0.8888888888888888,\"#fdca26\"],[1.0,\"#f0f921\"]]}],\"contourcarpet\":[{\"type\":\"contourcarpet\",\"colorbar\":{\"outlinewidth\":0,\"ticks\":\"\"}}],\"contour\":[{\"type\":\"contour\",\"colorbar\":{\"outlinewidth\":0,\"ticks\":\"\"},\"colorscale\":[[0.0,\"#0d0887\"],[0.1111111111111111,\"#46039f\"],[0.2222222222222222,\"#7201a8\"],[0.3333333333333333,\"#9c179e\"],[0.4444444444444444,\"#bd3786\"],[0.5555555555555556,\"#d8576b\"],[0.6666666666666666,\"#ed7953\"],[0.7777777777777778,\"#fb9f3a\"],[0.8888888888888888,\"#fdca26\"],[1.0,\"#f0f921\"]]}],\"surface\":[{\"type\":\"surface\",\"colorbar\":{\"outlinewidth\":0,\"ticks\":\"\"},\"colorscale\":[[0.0,\"#0d0887\"],[0.1111111111111111,\"#46039f\"],[0.2222222222222222,\"#7201a8\"],[0.3333333333333333,\"#9c179e\"],[0.4444444444444444,\"#bd3786\"],[0.5555555555555556,\"#d8576b\"],[0.6666666666666666,\"#ed7953\"],[0.7777777777777778,\"#fb9f3a\"],[0.8888888888888888,\"#fdca26\"],[1.0,\"#f0f921\"]]}],\"mesh3d\":[{\"type\":\"mesh3d\",\"colorbar\":{\"outlinewidth\":0,\"ticks\":\"\"}}],\"scatter\":[{\"fillpattern\":{\"fillmode\":\"overlay\",\"size\":10,\"solidity\":0.2},\"type\":\"scatter\"}],\"parcoords\":[{\"type\":\"parcoords\",\"line\":{\"colorbar\":{\"outlinewidth\":0,\"ticks\":\"\"}}}],\"scatterpolargl\":[{\"type\":\"scatterpolargl\",\"marker\":{\"colorbar\":{\"outlinewidth\":0,\"ticks\":\"\"}}}],\"bar\":[{\"error_x\":{\"color\":\"#2a3f5f\"},\"error_y\":{\"color\":\"#2a3f5f\"},\"marker\":{\"line\":{\"color\":\"#E5ECF6\",\"width\":0.5},\"pattern\":{\"fillmode\":\"overlay\",\"size\":10,\"solidity\":0.2}},\"type\":\"bar\"}],\"scattergeo\":[{\"type\":\"scattergeo\",\"marker\":{\"colorbar\":{\"outlinewidth\":0,\"ticks\":\"\"}}}],\"scatterpolar\":[{\"type\":\"scatterpolar\",\"marker\":{\"colorbar\":{\"outlinewidth\":0,\"ticks\":\"\"}}}],\"histogram\":[{\"marker\":{\"pattern\":{\"fillmode\":\"overlay\",\"size\":10,\"solidity\":0.2}},\"type\":\"histogram\"}],\"scattergl\":[{\"type\":\"scattergl\",\"marker\":{\"colorbar\":{\"outlinewidth\":0,\"ticks\":\"\"}}}],\"scatter3d\":[{\"type\":\"scatter3d\",\"line\":{\"colorbar\":{\"outlinewidth\":0,\"ticks\":\"\"}},\"marker\":{\"colorbar\":{\"outlinewidth\":0,\"ticks\":\"\"}}}],\"scattermapbox\":[{\"type\":\"scattermapbox\",\"marker\":{\"colorbar\":{\"outlinewidth\":0,\"ticks\":\"\"}}}],\"scatterternary\":[{\"type\":\"scatterternary\",\"marker\":{\"colorbar\":{\"outlinewidth\":0,\"ticks\":\"\"}}}],\"scattercarpet\":[{\"type\":\"scattercarpet\",\"marker\":{\"colorbar\":{\"outlinewidth\":0,\"ticks\":\"\"}}}],\"carpet\":[{\"aaxis\":{\"endlinecolor\":\"#2a3f5f\",\"gridcolor\":\"white\",\"linecolor\":\"white\",\"minorgridcolor\":\"white\",\"startlinecolor\":\"#2a3f5f\"},\"baxis\":{\"endlinecolor\":\"#2a3f5f\",\"gridcolor\":\"white\",\"linecolor\":\"white\",\"minorgridcolor\":\"white\",\"startlinecolor\":\"#2a3f5f\"},\"type\":\"carpet\"}],\"table\":[{\"cells\":{\"fill\":{\"color\":\"#EBF0F8\"},\"line\":{\"color\":\"white\"}},\"header\":{\"fill\":{\"color\":\"#C8D4E3\"},\"line\":{\"color\":\"white\"}},\"type\":\"table\"}],\"barpolar\":[{\"marker\":{\"line\":{\"color\":\"#E5ECF6\",\"width\":0.5},\"pattern\":{\"fillmode\":\"overlay\",\"size\":10,\"solidity\":0.2}},\"type\":\"barpolar\"}],\"pie\":[{\"automargin\":true,\"type\":\"pie\"}]},\"layout\":{\"autotypenumbers\":\"strict\",\"colorway\":[\"#636efa\",\"#EF553B\",\"#00cc96\",\"#ab63fa\",\"#FFA15A\",\"#19d3f3\",\"#FF6692\",\"#B6E880\",\"#FF97FF\",\"#FECB52\"],\"font\":{\"color\":\"#2a3f5f\"},\"hovermode\":\"closest\",\"hoverlabel\":{\"align\":\"left\"},\"paper_bgcolor\":\"white\",\"plot_bgcolor\":\"#E5ECF6\",\"polar\":{\"bgcolor\":\"#E5ECF6\",\"angularaxis\":{\"gridcolor\":\"white\",\"linecolor\":\"white\",\"ticks\":\"\"},\"radialaxis\":{\"gridcolor\":\"white\",\"linecolor\":\"white\",\"ticks\":\"\"}},\"ternary\":{\"bgcolor\":\"#E5ECF6\",\"aaxis\":{\"gridcolor\":\"white\",\"linecolor\":\"white\",\"ticks\":\"\"},\"baxis\":{\"gridcolor\":\"white\",\"linecolor\":\"white\",\"ticks\":\"\"},\"caxis\":{\"gridcolor\":\"white\",\"linecolor\":\"white\",\"ticks\":\"\"}},\"coloraxis\":{\"colorbar\":{\"outlinewidth\":0,\"ticks\":\"\"}},\"colorscale\":{\"sequential\":[[0.0,\"#0d0887\"],[0.1111111111111111,\"#46039f\"],[0.2222222222222222,\"#7201a8\"],[0.3333333333333333,\"#9c179e\"],[0.4444444444444444,\"#bd3786\"],[0.5555555555555556,\"#d8576b\"],[0.6666666666666666,\"#ed7953\"],[0.7777777777777778,\"#fb9f3a\"],[0.8888888888888888,\"#fdca26\"],[1.0,\"#f0f921\"]],\"sequentialminus\":[[0.0,\"#0d0887\"],[0.1111111111111111,\"#46039f\"],[0.2222222222222222,\"#7201a8\"],[0.3333333333333333,\"#9c179e\"],[0.4444444444444444,\"#bd3786\"],[0.5555555555555556,\"#d8576b\"],[0.6666666666666666,\"#ed7953\"],[0.7777777777777778,\"#fb9f3a\"],[0.8888888888888888,\"#fdca26\"],[1.0,\"#f0f921\"]],\"diverging\":[[0,\"#8e0152\"],[0.1,\"#c51b7d\"],[0.2,\"#de77ae\"],[0.3,\"#f1b6da\"],[0.4,\"#fde0ef\"],[0.5,\"#f7f7f7\"],[0.6,\"#e6f5d0\"],[0.7,\"#b8e186\"],[0.8,\"#7fbc41\"],[0.9,\"#4d9221\"],[1,\"#276419\"]]},\"xaxis\":{\"gridcolor\":\"white\",\"linecolor\":\"white\",\"ticks\":\"\",\"title\":{\"standoff\":15},\"zerolinecolor\":\"white\",\"automargin\":true,\"zerolinewidth\":2},\"yaxis\":{\"gridcolor\":\"white\",\"linecolor\":\"white\",\"ticks\":\"\",\"title\":{\"standoff\":15},\"zerolinecolor\":\"white\",\"automargin\":true,\"zerolinewidth\":2},\"scene\":{\"xaxis\":{\"backgroundcolor\":\"#E5ECF6\",\"gridcolor\":\"white\",\"linecolor\":\"white\",\"showbackground\":true,\"ticks\":\"\",\"zerolinecolor\":\"white\",\"gridwidth\":2},\"yaxis\":{\"backgroundcolor\":\"#E5ECF6\",\"gridcolor\":\"white\",\"linecolor\":\"white\",\"showbackground\":true,\"ticks\":\"\",\"zerolinecolor\":\"white\",\"gridwidth\":2},\"zaxis\":{\"backgroundcolor\":\"#E5ECF6\",\"gridcolor\":\"white\",\"linecolor\":\"white\",\"showbackground\":true,\"ticks\":\"\",\"zerolinecolor\":\"white\",\"gridwidth\":2}},\"shapedefaults\":{\"line\":{\"color\":\"#2a3f5f\"}},\"annotationdefaults\":{\"arrowcolor\":\"#2a3f5f\",\"arrowhead\":0,\"arrowwidth\":1},\"geo\":{\"bgcolor\":\"white\",\"landcolor\":\"#E5ECF6\",\"subunitcolor\":\"white\",\"showland\":true,\"showlakes\":true,\"lakecolor\":\"white\"},\"title\":{\"x\":0.05},\"mapbox\":{\"style\":\"light\"}}},\"xaxis\":{\"anchor\":\"y\",\"domain\":[0.0,1.0],\"title\":{\"text\":\"value\"}},\"yaxis\":{\"anchor\":\"x\",\"domain\":[0.0,1.0],\"title\":{\"text\":\"count\"}},\"legend\":{\"title\":{\"text\":\"variable\"},\"tracegroupgap\":0},\"title\":{\"text\":\"Time to Compute Hist\"},\"barmode\":\"relative\"},                        {\"responsive\": true}                    ).then(function(){\n",
       "                            \n",
       "var gd = document.getElementById('e88cd886-2e5a-4340-9f2e-50c3b4a1b655');\n",
       "var x = new MutationObserver(function (mutations, observer) {{\n",
       "        var display = window.getComputedStyle(gd).display;\n",
       "        if (!display || display === 'none') {{\n",
       "            console.log([gd, 'removed!']);\n",
       "            Plotly.purge(gd);\n",
       "            observer.disconnect();\n",
       "        }}\n",
       "}});\n",
       "\n",
       "// Listen for the removal of the full notebook cells\n",
       "var notebookContainer = gd.closest('#notebook-container');\n",
       "if (notebookContainer) {{\n",
       "    x.observe(notebookContainer, {childList: true});\n",
       "}}\n",
       "\n",
       "// Listen for the clearing of the current output cell\n",
       "var outputEl = gd.closest('.output');\n",
       "if (outputEl) {{\n",
       "    x.observe(outputEl, {childList: true});\n",
       "}}\n",
       "\n",
       "                        })                };                });            </script>        </div>"
      ]
     },
     "metadata": {},
     "output_type": "display_data"
    }
   ],
   "source": [
    "px.histogram(computeHist, title=\"Time to Compute Hist\")"
   ]
  },
  {
   "cell_type": "code",
   "execution_count": null,
   "id": "fbd92903",
   "metadata": {},
   "outputs": [],
   "source": [
    "sum(computeHist), sum(genAvgColor)"
   ]
  },
  {
   "cell_type": "code",
   "execution_count": null,
   "id": "412f4d00",
   "metadata": {},
   "outputs": [],
   "source": [
    "    \n",
    "# def _count_tiles(slide_path, params, kwargs, position, count):\n",
    "#     ts = large_image.getTileSource(slide_path)\n",
    "#     lpotf = len(OutputTotals._fields)\n",
    "#     total = [0] * lpotf\n",
    "#     for pos in range(position, position + count):\n",
    "#         tile = ts.getSingleTile(tile_position=pos, **kwargs)['tile']\n",
    "#         subtotal = _count_image(tile, params)[0]\n",
    "#         for k in range(lpotf):\n",
    "#             total[k] += subtotal[k]\n",
    "#     return OutputTotals._make(total)    "
   ]
  }
 ],
 "metadata": {
  "kernelspec": {
   "display_name": "Python 3 (ipykernel)",
   "language": "python",
   "name": "python3"
  },
  "language_info": {
   "codemirror_mode": {
    "name": "ipython",
    "version": 3
   },
   "file_extension": ".py",
   "mimetype": "text/x-python",
   "name": "python",
   "nbconvert_exporter": "python",
   "pygments_lexer": "ipython3",
   "version": "3.9.16"
  }
 },
 "nbformat": 4,
 "nbformat_minor": 5
}
