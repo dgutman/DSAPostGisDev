{
 "cells": [
  {
   "cell_type": "code",
   "execution_count": 7,
   "id": "e28738e5",
   "metadata": {},
   "outputs": [
    {
     "name": "stdout",
     "output_type": "stream",
     "text": [
      "{'x': 0, 'y': 0, 'width': 240, 'height': 240, 'level': 6, 'level_x': 0, 'level_y': 0, 'magnification': 2.5, 'mm_x': 0.00404, 'mm_y': 0.00404, 'tile_position': {'level_x': 0, 'level_y': 0, 'region_x': 0, 'region_y': 0, 'position': 0}, 'iterator_range': {'level_x_min': 0, 'level_y_min': 0, 'level_x_max': 34, 'level_y_max': 9, 'region_x_max': 34, 'region_y_max': 9, 'position': 306}, 'tile_overlap': {'left': 0, 'top': 0, 'right': 0, 'bottom': 0}, 'tile': None, 'format': None, 'gx': 0.0, 'gy': 0.0, 'gwidth': 3840.0, 'gheight': 3840.0}\n"
     ]
    }
   ],
   "source": [
    "import large_image\n",
    "\n",
    "\n",
    "## Generate a tile histogram\n",
    "\n",
    "\n",
    "ts = large_image.open(\"./TCGA-3L-AA1B-01A-01-TS1.9C415218-D5B4-4945-B243-F42A4C8C0484.svs\")\n",
    "tilesProcessed = 0 \n",
    "magnification = 2.5\n",
    "\n",
    "\n",
    "for tile_info in ts.tileIterator(\n",
    "    region=dict(units=\"base_pixels\"),\n",
    "    scale=dict(magnification=magnification),\n",
    "    tile_size=dict(width=ts.tileWidth, height=ts.tileHeight),\n",
    "    format=large_image.tilesource.TILE_FORMAT_NUMPY):\n",
    "        print(tile_info)\n",
    "        ### Going to dump some basic stats in global space,,, always need to do that nayway\n",
    "        \n",
    "        \n",
    "        break\n",
    "        \n",
    "    #         if opType == \"pullNPArray\":\n",
    "#             #            im_tile = np.array(tile_info[\"tile\"])\n",
    "#             im_tile = tile_info[\"tile\"]\n",
    "#             bytesRead += im_tile.size\n",
    "#         tilesProcessed += 1\n",
    "\n"
   ]
  }
 ],
 "metadata": {
  "kernelspec": {
   "display_name": "Python 3 (ipykernel)",
   "language": "python",
   "name": "python3"
  },
  "language_info": {
   "codemirror_mode": {
    "name": "ipython",
    "version": 3
   },
   "file_extension": ".py",
   "mimetype": "text/x-python",
   "name": "python",
   "nbconvert_exporter": "python",
   "pygments_lexer": "ipython3",
   "version": "3.9.16"
  }
 },
 "nbformat": 4,
 "nbformat_minor": 5
}
